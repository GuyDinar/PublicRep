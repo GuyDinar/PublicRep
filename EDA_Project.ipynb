{
  "nbformat": 4,
  "nbformat_minor": 0,
  "metadata": {
    "language_info": {
      "codemirror_mode": {
        "name": "ipython",
        "version": 3
      },
      "file_extension": ".py",
      "mimetype": "text/x-python",
      "name": "python",
      "nbconvert_exporter": "python",
      "pygments_lexer": "ipython3",
      "version": "3.7.2-final"
    },
    "orig_nbformat": 2,
    "kernelspec": {
      "name": "python3",
      "display_name": "Python 3.7.2 32-bit",
      "metadata": {
        "interpreter": {
          "hash": "c717e4c4d3b098f95119fbafc08a00caed5b0e0e7ba0cf6542f5a53946327058"
        }
      }
    },
    "colab": {
      "name": "EDA Project.ipynb",
      "provenance": [],
      "collapsed_sections": [],
      "toc_visible": true
    }
  },
  "cells": [
    {
      "cell_type": "markdown",
      "metadata": {
        "id": "C5G-vq7JUJ5f"
      },
      "source": [
        "# Eliran Refaeli & Guy Dinar"
      ]
    },
    {
      "cell_type": "markdown",
      "metadata": {
        "id": "1uCGGKzUbiZu"
      },
      "source": [
        "# Kaggle Dataset\r\n",
        "https://www.kaggle.com/adityadesai13/used-car-dataset-ford-and-mercedes"
      ]
    },
    {
      "cell_type": "markdown",
      "metadata": {
        "id": "H7myMJaE1H96"
      },
      "source": [
        "# Project Overview"
      ]
    },
    {
      "cell_type": "markdown",
      "metadata": {
        "id": "9myvUxkphqOR"
      },
      "source": [
        "## Goals\r\n",
        "1. Try to answer 6 different EDA business questions\r\n",
        "2. Clean the data\r\n",
        "3. Try to use a variety of different visualizations (bars, lines, pies, boxplots)\r\n",
        "4. Try to use different Pandas methods (info&describe, GroupBy, sort, merge (join), unions, qcut)\r\n",
        "5. Try to conclude interesting conclusions from the data\r\n",
        "6. Don't be afraid to fail :)"
      ]
    },
    {
      "cell_type": "markdown",
      "metadata": {
        "id": "qAWFn1W2MA4d"
      },
      "source": [
        "## What we learned\r\n",
        "1. Named Aggregations\r\n",
        "2. Technical - \"nlargest(n)\", \"reset_index()\", \"pivot()\", different ways of normalizing data\r\n",
        "4. Visual - \"autopct\" for adding labels to pie charts\r\n"
      ]
    },
    {
      "cell_type": "markdown",
      "metadata": {
        "id": "GE7Dn4ckvUaX"
      },
      "source": [
        "## Issues\r\n",
        "\r\n",
        "1. Couldn't find a way to efficiently add labels to bar charts in Pandas\r\n",
        "2. Couldn't find a way to supress pandas output messages (Question 4)\r\n",
        "3. Couldn't find a way to efficinetly add a trendline (regression?) to multiple bar charts (Question 5)\r\n",
        "4. Couldn't find a way to stack area charts using Seaborn.\r\n"
      ]
    },
    {
      "cell_type": "markdown",
      "metadata": {
        "id": "-LhzV3A5FVj3"
      },
      "source": [
        "## Questions we couldn't answer\r\n",
        "\r\n",
        "* Can we try to guess the original price of the car with 0 miles?\r\n",
        "\r\n",
        "We wanted to follow a trend line back to \"year zero\", but couldn't failed in creating one.\r\n",
        "* In general, how much money do I lose per mile I drive the car?\r\n",
        "\r\n",
        "This is a derivative of the previous question."
      ]
    },
    {
      "cell_type": "markdown",
      "metadata": {
        "id": "rWdg_djYNpgW"
      },
      "source": [
        "\n",
        "# Import Libraries\n"
      ]
    },
    {
      "cell_type": "code",
      "metadata": {
        "id": "HPBQ1GZQNpgY"
      },
      "source": [
        "from matplotlib import pyplot as plt\n",
        "import numpy as np\n",
        "import pandas as pd\n",
        "import seaborn as sns\n",
        "\n",
        "%matplotlib inline\n",
        "pd.set_option('display.max_columns', None)\n",
        "pd.set_option('display.width', 1000)\n",
        "pd.options.mode.chained_assignment = None"
      ],
      "execution_count": null,
      "outputs": []
    },
    {
      "cell_type": "markdown",
      "metadata": {
        "id": "nVEmcyn0NpgZ"
      },
      "source": [
        "# Create DataFrames"
      ]
    },
    {
      "cell_type": "code",
      "metadata": {
        "id": "d80e-CMKkCqZ"
      },
      "source": [
        "# get links from github\r\n",
        "audi_dataset = 'https://raw.githubusercontent.com/GuyDinar/PublicRep/main/EDA%20Files/audi.csv'\r\n",
        "bmw_dataset = 'https://raw.githubusercontent.com/GuyDinar/PublicRep/main/EDA%20Files/bmw.csv'\r\n",
        "focus_dataset = 'https://raw.githubusercontent.com/GuyDinar/PublicRep/main/EDA%20Files/focus.csv'\r\n",
        "ford_dataset = 'https://raw.githubusercontent.com/GuyDinar/PublicRep/main/EDA%20Files/ford.csv'\r\n",
        "hyundi_dataset = 'https://raw.githubusercontent.com/GuyDinar/PublicRep/main/EDA%20Files/hyundi.csv'\r\n",
        "merc_dataset = 'https://raw.githubusercontent.com/GuyDinar/PublicRep/main/EDA%20Files/merc.csv'\r\n",
        "skoda_dataset = 'https://raw.githubusercontent.com/GuyDinar/PublicRep/main/EDA%20Files/skoda.csv'\r\n",
        "toyota_dataset = 'https://raw.githubusercontent.com/GuyDinar/PublicRep/main/EDA%20Files/toyota.csv'\r\n",
        "vw_dataset = 'https://raw.githubusercontent.com/GuyDinar/PublicRep/main/EDA%20Files/vw.csv'"
      ],
      "execution_count": null,
      "outputs": []
    },
    {
      "cell_type": "code",
      "metadata": {
        "colab": {
          "base_uri": "https://localhost:8080/",
          "height": 206
        },
        "id": "3gpHfGLGNpga",
        "outputId": "91e24dc2-4b5f-4438-c271-7959dd272239"
      },
      "source": [
        "# import csv as dataframe\n",
        "audi = pd.read_csv(audi_dataset)\n",
        "bmw = pd.read_csv(bmw_dataset)\n",
        "ford = pd.read_csv(ford_dataset)\n",
        "hyundi = pd.read_csv(hyundi_dataset)\n",
        "merc = pd.read_csv(merc_dataset)\n",
        "skoda = pd.read_csv(skoda_dataset)\n",
        "toyota = pd.read_csv(toyota_dataset)\n",
        "vw = pd.read_csv(vw_dataset)\n",
        "\n",
        "# add manufacturere column and \n",
        "audi['manufacturer'] = 'Audi'\n",
        "bmw['manufacturer'] = 'BMW'\n",
        "ford['manufacturer'] = 'Ford'\n",
        "hyundi['manufacturer'] = 'Hyundi'\n",
        "merc['manufacturer'] = 'Mercedes'\n",
        "skoda['manufacturer'] = 'Skoda'\n",
        "toyota['manufacturer'] = 'Toyota'\n",
        "vw['manufacturer'] = 'VW'\n",
        "\n",
        "hyundi.rename(columns = {'tax(£)': 'tax'}, inplace = True)\n",
        "\n",
        "# append (union) all files\n",
        "df_raw = audi.append([bmw, ford, hyundi, merc, skoda, toyota, vw])\n",
        "\n",
        "df_raw.head()"
      ],
      "execution_count": null,
      "outputs": [
        {
          "output_type": "execute_result",
          "data": {
            "text/html": [
              "<div>\n",
              "<style scoped>\n",
              "    .dataframe tbody tr th:only-of-type {\n",
              "        vertical-align: middle;\n",
              "    }\n",
              "\n",
              "    .dataframe tbody tr th {\n",
              "        vertical-align: top;\n",
              "    }\n",
              "\n",
              "    .dataframe thead th {\n",
              "        text-align: right;\n",
              "    }\n",
              "</style>\n",
              "<table border=\"1\" class=\"dataframe\">\n",
              "  <thead>\n",
              "    <tr style=\"text-align: right;\">\n",
              "      <th></th>\n",
              "      <th>model</th>\n",
              "      <th>year</th>\n",
              "      <th>price</th>\n",
              "      <th>transmission</th>\n",
              "      <th>mileage</th>\n",
              "      <th>fuelType</th>\n",
              "      <th>tax</th>\n",
              "      <th>mpg</th>\n",
              "      <th>engineSize</th>\n",
              "      <th>manufacturer</th>\n",
              "    </tr>\n",
              "  </thead>\n",
              "  <tbody>\n",
              "    <tr>\n",
              "      <th>0</th>\n",
              "      <td>A1</td>\n",
              "      <td>2017</td>\n",
              "      <td>12500</td>\n",
              "      <td>Manual</td>\n",
              "      <td>15735</td>\n",
              "      <td>Petrol</td>\n",
              "      <td>150</td>\n",
              "      <td>55.4</td>\n",
              "      <td>1.4</td>\n",
              "      <td>Audi</td>\n",
              "    </tr>\n",
              "    <tr>\n",
              "      <th>1</th>\n",
              "      <td>A6</td>\n",
              "      <td>2016</td>\n",
              "      <td>16500</td>\n",
              "      <td>Automatic</td>\n",
              "      <td>36203</td>\n",
              "      <td>Diesel</td>\n",
              "      <td>20</td>\n",
              "      <td>64.2</td>\n",
              "      <td>2.0</td>\n",
              "      <td>Audi</td>\n",
              "    </tr>\n",
              "    <tr>\n",
              "      <th>2</th>\n",
              "      <td>A1</td>\n",
              "      <td>2016</td>\n",
              "      <td>11000</td>\n",
              "      <td>Manual</td>\n",
              "      <td>29946</td>\n",
              "      <td>Petrol</td>\n",
              "      <td>30</td>\n",
              "      <td>55.4</td>\n",
              "      <td>1.4</td>\n",
              "      <td>Audi</td>\n",
              "    </tr>\n",
              "    <tr>\n",
              "      <th>3</th>\n",
              "      <td>A4</td>\n",
              "      <td>2017</td>\n",
              "      <td>16800</td>\n",
              "      <td>Automatic</td>\n",
              "      <td>25952</td>\n",
              "      <td>Diesel</td>\n",
              "      <td>145</td>\n",
              "      <td>67.3</td>\n",
              "      <td>2.0</td>\n",
              "      <td>Audi</td>\n",
              "    </tr>\n",
              "    <tr>\n",
              "      <th>4</th>\n",
              "      <td>A3</td>\n",
              "      <td>2019</td>\n",
              "      <td>17300</td>\n",
              "      <td>Manual</td>\n",
              "      <td>1998</td>\n",
              "      <td>Petrol</td>\n",
              "      <td>145</td>\n",
              "      <td>49.6</td>\n",
              "      <td>1.0</td>\n",
              "      <td>Audi</td>\n",
              "    </tr>\n",
              "  </tbody>\n",
              "</table>\n",
              "</div>"
            ],
            "text/plain": [
              "  model  year  price transmission  mileage fuelType  tax   mpg  engineSize manufacturer\n",
              "0    A1  2017  12500       Manual    15735   Petrol  150  55.4         1.4         Audi\n",
              "1    A6  2016  16500    Automatic    36203   Diesel   20  64.2         2.0         Audi\n",
              "2    A1  2016  11000       Manual    29946   Petrol   30  55.4         1.4         Audi\n",
              "3    A4  2017  16800    Automatic    25952   Diesel  145  67.3         2.0         Audi\n",
              "4    A3  2019  17300       Manual     1998   Petrol  145  49.6         1.0         Audi"
            ]
          },
          "metadata": {
            "tags": []
          },
          "execution_count": 145
        }
      ]
    },
    {
      "cell_type": "markdown",
      "metadata": {
        "id": "3yKd_cnjNpga"
      },
      "source": [
        "# First impressions"
      ]
    },
    {
      "cell_type": "code",
      "metadata": {
        "id": "vGSRe7ChNpgb",
        "colab": {
          "base_uri": "https://localhost:8080/"
        },
        "outputId": "c7c12060-eb28-4536-f1fd-27a5ce2e2795"
      },
      "source": [
        "df_raw.info()\n",
        "print('*' * 100)\n",
        "print(df_raw.describe())"
      ],
      "execution_count": null,
      "outputs": [
        {
          "output_type": "stream",
          "text": [
            "<class 'pandas.core.frame.DataFrame'>\n",
            "Int64Index: 85555 entries, 0 to 15156\n",
            "Data columns (total 10 columns):\n",
            " #   Column        Non-Null Count  Dtype  \n",
            "---  ------        --------------  -----  \n",
            " 0   model         85555 non-null  object \n",
            " 1   year          85555 non-null  int64  \n",
            " 2   price         85555 non-null  int64  \n",
            " 3   transmission  85555 non-null  object \n",
            " 4   mileage       85555 non-null  int64  \n",
            " 5   fuelType      85555 non-null  object \n",
            " 6   tax           85555 non-null  int64  \n",
            " 7   mpg           85555 non-null  float64\n",
            " 8   engineSize    85555 non-null  float64\n",
            " 9   manufacturer  85555 non-null  object \n",
            "dtypes: float64(2), int64(4), object(4)\n",
            "memory usage: 7.2+ MB\n",
            "****************************************************************************************************\n",
            "               year          price        mileage           tax           mpg    engineSize\n",
            "count  85555.000000   85555.000000   85555.000000  85555.000000  85555.000000  85555.000000\n",
            "mean    2017.108305   17824.921793   22988.745076    118.950733     55.745505      1.702485\n",
            "std        2.127201   10162.376307   21312.435922     64.404267     16.839501      0.584701\n",
            "min     1970.000000     495.000000       1.000000      0.000000      0.300000      0.000000\n",
            "25%     2016.000000   10790.000000    7041.000000    125.000000     47.100000      1.200000\n",
            "50%     2017.000000   15700.000000   17232.000000    145.000000     55.400000      1.600000\n",
            "75%     2019.000000   21998.000000   32345.000000    145.000000     62.800000      2.000000\n",
            "max     2060.000000  159999.000000  323000.000000    580.000000    470.800000      6.600000\n"
          ],
          "name": "stdout"
        }
      ]
    },
    {
      "cell_type": "markdown",
      "metadata": {
        "id": "xr756F7A1y2d"
      },
      "source": [
        "# Cleaning the data"
      ]
    },
    {
      "cell_type": "markdown",
      "metadata": {
        "id": "4GpC4mDW2Mzh"
      },
      "source": [
        "## General"
      ]
    },
    {
      "cell_type": "code",
      "metadata": {
        "id": "K8RUVGkE87nL"
      },
      "source": [
        "### Filter time period 2000 - 2020 ###\r\n",
        "# We noticed very few records from before 2000. We decided to take a round period of exactly 20 years.\r\n",
        "df1 = df_raw[(df_raw['year'] >= 2000) & (df_raw['year'] <= 2020)]"
      ],
      "execution_count": null,
      "outputs": []
    },
    {
      "cell_type": "code",
      "metadata": {
        "id": "McvmYyfLAjhM"
      },
      "source": [
        "### Clear Engine Size 0 ###\r\n",
        "# We noticed records with engine size 0. We decided this is invalid data.\r\n",
        "df2 = df1[df1['engineSize'] != 0]"
      ],
      "execution_count": null,
      "outputs": []
    },
    {
      "cell_type": "markdown",
      "metadata": {
        "id": "HdDBVZOEIG-P"
      },
      "source": [
        "## Checking outliers"
      ]
    },
    {
      "cell_type": "code",
      "metadata": {
        "colab": {
          "base_uri": "https://localhost:8080/",
          "height": 112
        },
        "id": "zug3QvDGA57S",
        "outputId": "181ba0d0-e39d-48d2-95c7-cee3d9bd2921"
      },
      "source": [
        "### Clear very high mileage ###\r\n",
        "# We noticed records with mileage 300,000.\r\n",
        "df2[df2['mileage'] >= 300000]\r\n",
        "\r\n",
        "# We concluded that is valid data."
      ],
      "execution_count": null,
      "outputs": [
        {
          "output_type": "execute_result",
          "data": {
            "text/html": [
              "<div>\n",
              "<style scoped>\n",
              "    .dataframe tbody tr th:only-of-type {\n",
              "        vertical-align: middle;\n",
              "    }\n",
              "\n",
              "    .dataframe tbody tr th {\n",
              "        vertical-align: top;\n",
              "    }\n",
              "\n",
              "    .dataframe thead th {\n",
              "        text-align: right;\n",
              "    }\n",
              "</style>\n",
              "<table border=\"1\" class=\"dataframe\">\n",
              "  <thead>\n",
              "    <tr style=\"text-align: right;\">\n",
              "      <th></th>\n",
              "      <th>model</th>\n",
              "      <th>year</th>\n",
              "      <th>price</th>\n",
              "      <th>transmission</th>\n",
              "      <th>mileage</th>\n",
              "      <th>fuelType</th>\n",
              "      <th>tax</th>\n",
              "      <th>mpg</th>\n",
              "      <th>engineSize</th>\n",
              "      <th>manufacturer</th>\n",
              "    </tr>\n",
              "  </thead>\n",
              "  <tbody>\n",
              "    <tr>\n",
              "      <th>9822</th>\n",
              "      <td>A6</td>\n",
              "      <td>2008</td>\n",
              "      <td>2490</td>\n",
              "      <td>Manual</td>\n",
              "      <td>323000</td>\n",
              "      <td>Diesel</td>\n",
              "      <td>200</td>\n",
              "      <td>44.1</td>\n",
              "      <td>2.0</td>\n",
              "      <td>Audi</td>\n",
              "    </tr>\n",
              "    <tr>\n",
              "      <th>6069</th>\n",
              "      <td>Octavia</td>\n",
              "      <td>2010</td>\n",
              "      <td>1190</td>\n",
              "      <td>Manual</td>\n",
              "      <td>300000</td>\n",
              "      <td>Diesel</td>\n",
              "      <td>125</td>\n",
              "      <td>57.6</td>\n",
              "      <td>1.9</td>\n",
              "      <td>Skoda</td>\n",
              "    </tr>\n",
              "  </tbody>\n",
              "</table>\n",
              "</div>"
            ],
            "text/plain": [
              "         model  year  price transmission  mileage fuelType  tax   mpg  engineSize manufacturer\n",
              "9822        A6  2008   2490       Manual   323000   Diesel  200  44.1         2.0         Audi\n",
              "6069   Octavia  2010   1190       Manual   300000   Diesel  125  57.6         1.9        Skoda"
            ]
          },
          "metadata": {
            "tags": []
          },
          "execution_count": 149
        }
      ]
    },
    {
      "cell_type": "code",
      "metadata": {
        "colab": {
          "base_uri": "https://localhost:8080/",
          "height": 300
        },
        "id": "E1oiJnoNFMfA",
        "outputId": "e122093e-3b6b-4453-f7fb-d6a5cbbc40d5"
      },
      "source": [
        "### Clear very high MPG ###\r\n",
        "# We noticed records with MPG 400 and above.\r\n",
        "df2[(df2['mpg'] >= 400)]\r\n",
        "\r\n",
        "# We concluded that the data is valid. Only 1 model gets > 400 MPG."
      ],
      "execution_count": null,
      "outputs": [
        {
          "output_type": "execute_result",
          "data": {
            "text/html": [
              "<div>\n",
              "<style scoped>\n",
              "    .dataframe tbody tr th:only-of-type {\n",
              "        vertical-align: middle;\n",
              "    }\n",
              "\n",
              "    .dataframe tbody tr th {\n",
              "        vertical-align: top;\n",
              "    }\n",
              "\n",
              "    .dataframe thead th {\n",
              "        text-align: right;\n",
              "    }\n",
              "</style>\n",
              "<table border=\"1\" class=\"dataframe\">\n",
              "  <thead>\n",
              "    <tr style=\"text-align: right;\">\n",
              "      <th></th>\n",
              "      <th>model</th>\n",
              "      <th>year</th>\n",
              "      <th>price</th>\n",
              "      <th>transmission</th>\n",
              "      <th>mileage</th>\n",
              "      <th>fuelType</th>\n",
              "      <th>tax</th>\n",
              "      <th>mpg</th>\n",
              "      <th>engineSize</th>\n",
              "      <th>manufacturer</th>\n",
              "    </tr>\n",
              "  </thead>\n",
              "  <tbody>\n",
              "    <tr>\n",
              "      <th>32</th>\n",
              "      <td>i3</td>\n",
              "      <td>2016</td>\n",
              "      <td>17100</td>\n",
              "      <td>Automatic</td>\n",
              "      <td>25269</td>\n",
              "      <td>Other</td>\n",
              "      <td>0</td>\n",
              "      <td>470.8</td>\n",
              "      <td>0.6</td>\n",
              "      <td>BMW</td>\n",
              "    </tr>\n",
              "    <tr>\n",
              "      <th>8188</th>\n",
              "      <td>i3</td>\n",
              "      <td>2015</td>\n",
              "      <td>14940</td>\n",
              "      <td>Automatic</td>\n",
              "      <td>59000</td>\n",
              "      <td>Other</td>\n",
              "      <td>0</td>\n",
              "      <td>470.8</td>\n",
              "      <td>0.6</td>\n",
              "      <td>BMW</td>\n",
              "    </tr>\n",
              "    <tr>\n",
              "      <th>8620</th>\n",
              "      <td>i3</td>\n",
              "      <td>2017</td>\n",
              "      <td>19300</td>\n",
              "      <td>Automatic</td>\n",
              "      <td>32867</td>\n",
              "      <td>Other</td>\n",
              "      <td>0</td>\n",
              "      <td>470.8</td>\n",
              "      <td>0.6</td>\n",
              "      <td>BMW</td>\n",
              "    </tr>\n",
              "    <tr>\n",
              "      <th>8835</th>\n",
              "      <td>i3</td>\n",
              "      <td>2015</td>\n",
              "      <td>17400</td>\n",
              "      <td>Automatic</td>\n",
              "      <td>29465</td>\n",
              "      <td>Electric</td>\n",
              "      <td>0</td>\n",
              "      <td>470.8</td>\n",
              "      <td>1.0</td>\n",
              "      <td>BMW</td>\n",
              "    </tr>\n",
              "    <tr>\n",
              "      <th>10080</th>\n",
              "      <td>i3</td>\n",
              "      <td>2017</td>\n",
              "      <td>20000</td>\n",
              "      <td>Automatic</td>\n",
              "      <td>19178</td>\n",
              "      <td>Other</td>\n",
              "      <td>0</td>\n",
              "      <td>470.8</td>\n",
              "      <td>0.6</td>\n",
              "      <td>BMW</td>\n",
              "    </tr>\n",
              "    <tr>\n",
              "      <th>10086</th>\n",
              "      <td>i3</td>\n",
              "      <td>2017</td>\n",
              "      <td>19500</td>\n",
              "      <td>Automatic</td>\n",
              "      <td>23956</td>\n",
              "      <td>Other</td>\n",
              "      <td>135</td>\n",
              "      <td>470.8</td>\n",
              "      <td>0.6</td>\n",
              "      <td>BMW</td>\n",
              "    </tr>\n",
              "    <tr>\n",
              "      <th>10325</th>\n",
              "      <td>i3</td>\n",
              "      <td>2016</td>\n",
              "      <td>17000</td>\n",
              "      <td>Automatic</td>\n",
              "      <td>41063</td>\n",
              "      <td>Other</td>\n",
              "      <td>0</td>\n",
              "      <td>470.8</td>\n",
              "      <td>0.6</td>\n",
              "      <td>BMW</td>\n",
              "    </tr>\n",
              "    <tr>\n",
              "      <th>10530</th>\n",
              "      <td>i3</td>\n",
              "      <td>2017</td>\n",
              "      <td>17600</td>\n",
              "      <td>Automatic</td>\n",
              "      <td>50867</td>\n",
              "      <td>Other</td>\n",
              "      <td>135</td>\n",
              "      <td>470.8</td>\n",
              "      <td>0.6</td>\n",
              "      <td>BMW</td>\n",
              "    </tr>\n",
              "  </tbody>\n",
              "</table>\n",
              "</div>"
            ],
            "text/plain": [
              "      model  year  price transmission  mileage  fuelType  tax    mpg  engineSize manufacturer\n",
              "32       i3  2016  17100    Automatic    25269     Other    0  470.8         0.6          BMW\n",
              "8188     i3  2015  14940    Automatic    59000     Other    0  470.8         0.6          BMW\n",
              "8620     i3  2017  19300    Automatic    32867     Other    0  470.8         0.6          BMW\n",
              "8835     i3  2015  17400    Automatic    29465  Electric    0  470.8         1.0          BMW\n",
              "10080    i3  2017  20000    Automatic    19178     Other    0  470.8         0.6          BMW\n",
              "10086    i3  2017  19500    Automatic    23956     Other  135  470.8         0.6          BMW\n",
              "10325    i3  2016  17000    Automatic    41063     Other    0  470.8         0.6          BMW\n",
              "10530    i3  2017  17600    Automatic    50867     Other  135  470.8         0.6          BMW"
            ]
          },
          "metadata": {
            "tags": []
          },
          "execution_count": 150
        }
      ]
    },
    {
      "cell_type": "code",
      "metadata": {
        "colab": {
          "base_uri": "https://localhost:8080/"
        },
        "id": "XDYVc1f_F4Pv",
        "outputId": "a2fde380-8cda-4db4-ef5c-2f322eb8fc83"
      },
      "source": [
        "### Engine Size Sanity Check ###\r\n",
        "df2[(df2['fuelType'] == 'Other')]['engineSize'].value_counts().sort_index()\r\n",
        "\r\n",
        "# We concluded that the new minimum of 0.6 makes sense."
      ],
      "execution_count": null,
      "outputs": [
        {
          "output_type": "execute_result",
          "data": {
            "text/plain": [
              "0.6     7\n",
              "1.0    81\n",
              "1.2     8\n",
              "1.3     2\n",
              "1.4    11\n",
              "1.5    27\n",
              "1.6     2\n",
              "1.8    27\n",
              "2.0    73\n",
              "2.5     1\n",
              "3.0     6\n",
              "Name: engineSize, dtype: int64"
            ]
          },
          "metadata": {
            "tags": []
          },
          "execution_count": 151
        }
      ]
    },
    {
      "cell_type": "markdown",
      "metadata": {
        "id": "AkDbOL6x3nr1"
      },
      "source": [
        "## Explore further..."
      ]
    },
    {
      "cell_type": "code",
      "metadata": {
        "id": "pAqID7LBDO2l"
      },
      "source": [
        "### Removing new cars ###\r\n",
        "# We decided that brand new cars might skew the data\r\n",
        "df2[(df2['mileage'] <= 100) & (~df2['year'].isin([2019, 2020]))]\r\n",
        "\r\n",
        "# We decided to remove the 64 records.\r\n",
        "df3 = df2[~((df2['mileage'] <= 100) & (~df2['year'].isin([2019, 2020])))]"
      ],
      "execution_count": null,
      "outputs": []
    },
    {
      "cell_type": "code",
      "metadata": {
        "id": "viCVPVRHWdSz"
      },
      "source": [
        "### adding Kilometer per Liter - KPL ###\r\n",
        "# We decided KPL will make more sense to us. Formula found online.\r\n",
        "df3['kpl'] = df3['mpg'] / 2.352"
      ],
      "execution_count": null,
      "outputs": []
    },
    {
      "cell_type": "code",
      "metadata": {
        "colab": {
          "base_uri": "https://localhost:8080/"
        },
        "id": "MVnEOE41M3kW",
        "outputId": "95d88186-6abd-4ffd-9c19-9d4ebcc48972"
      },
      "source": [
        "### Create final Dataframe ###\r\n",
        "df = df3\r\n",
        "len(df)"
      ],
      "execution_count": null,
      "outputs": [
        {
          "output_type": "execute_result",
          "data": {
            "text/plain": [
              "85231"
            ]
          },
          "metadata": {
            "tags": []
          },
          "execution_count": 154
        }
      ]
    },
    {
      "cell_type": "markdown",
      "metadata": {
        "id": "Enz7GVN14g3a"
      },
      "source": [
        "# Exploratory Data Analysis"
      ]
    },
    {
      "cell_type": "markdown",
      "metadata": {
        "id": "8h3vYd0O4lNZ"
      },
      "source": [
        "## General Questions\r\n",
        "We started off with relatively easy questions to better understand the data."
      ]
    },
    {
      "cell_type": "markdown",
      "metadata": {
        "id": "H9IS_T_f43us"
      },
      "source": [
        "###1 - which manufacturer is the most fuel efficient, on average?"
      ]
    },
    {
      "cell_type": "code",
      "metadata": {
        "colab": {
          "base_uri": "https://localhost:8080/",
          "height": 81
        },
        "id": "Y10C9L--N2DH",
        "outputId": "9a93b680-5f34-4523-f3af-0c163a564334"
      },
      "source": [
        "df.groupby('manufacturer')['mpg'].agg('mean').reset_index().nlargest(1, columns='mpg')"
      ],
      "execution_count": null,
      "outputs": [
        {
          "output_type": "execute_result",
          "data": {
            "text/html": [
              "<div>\n",
              "<style scoped>\n",
              "    .dataframe tbody tr th:only-of-type {\n",
              "        vertical-align: middle;\n",
              "    }\n",
              "\n",
              "    .dataframe tbody tr th {\n",
              "        vertical-align: top;\n",
              "    }\n",
              "\n",
              "    .dataframe thead th {\n",
              "        text-align: right;\n",
              "    }\n",
              "</style>\n",
              "<table border=\"1\" class=\"dataframe\">\n",
              "  <thead>\n",
              "    <tr style=\"text-align: right;\">\n",
              "      <th></th>\n",
              "      <th>manufacturer</th>\n",
              "      <th>mpg</th>\n",
              "    </tr>\n",
              "  </thead>\n",
              "  <tbody>\n",
              "    <tr>\n",
              "      <th>6</th>\n",
              "      <td>Toyota</td>\n",
              "      <td>63.049495</td>\n",
              "    </tr>\n",
              "  </tbody>\n",
              "</table>\n",
              "</div>"
            ],
            "text/plain": [
              "  manufacturer        mpg\n",
              "6       Toyota  63.049495"
            ]
          },
          "metadata": {
            "tags": []
          },
          "execution_count": 155
        }
      ]
    },
    {
      "cell_type": "markdown",
      "metadata": {
        "id": "D025Kf7r5wcR"
      },
      "source": [
        "###2 - which model has been sold the earliest, on average?"
      ]
    },
    {
      "cell_type": "code",
      "metadata": {
        "colab": {
          "base_uri": "https://localhost:8080/",
          "height": 206
        },
        "id": "xljtqex_Qnij",
        "outputId": "f29e37b0-303c-40be-f613-182421c3af20"
      },
      "source": [
        "df['age'] = 2021 - df['year']\r\n",
        "df.groupby('model')['age'].agg('mean').reset_index().nlargest(5, columns='age')"
      ],
      "execution_count": null,
      "outputs": [
        {
          "output_type": "execute_result",
          "data": {
            "text/html": [
              "<div>\n",
              "<style scoped>\n",
              "    .dataframe tbody tr th:only-of-type {\n",
              "        vertical-align: middle;\n",
              "    }\n",
              "\n",
              "    .dataframe tbody tr th {\n",
              "        vertical-align: top;\n",
              "    }\n",
              "\n",
              "    .dataframe thead th {\n",
              "        text-align: right;\n",
              "    }\n",
              "</style>\n",
              "<table border=\"1\" class=\"dataframe\">\n",
              "  <thead>\n",
              "    <tr style=\"text-align: right;\">\n",
              "      <th></th>\n",
              "      <th>model</th>\n",
              "      <th>age</th>\n",
              "    </tr>\n",
              "  </thead>\n",
              "  <tbody>\n",
              "    <tr>\n",
              "      <th>17</th>\n",
              "      <td>Accent</td>\n",
              "      <td>21.000000</td>\n",
              "    </tr>\n",
              "    <tr>\n",
              "      <th>164</th>\n",
              "      <td>Z3</td>\n",
              "      <td>19.500000</td>\n",
              "    </tr>\n",
              "    <tr>\n",
              "      <th>10</th>\n",
              "      <td>A2</td>\n",
              "      <td>18.000000</td>\n",
              "    </tr>\n",
              "    <tr>\n",
              "      <th>34</th>\n",
              "      <td>CLK</td>\n",
              "      <td>17.428571</td>\n",
              "    </tr>\n",
              "    <tr>\n",
              "      <th>138</th>\n",
              "      <td>Terracan</td>\n",
              "      <td>17.000000</td>\n",
              "    </tr>\n",
              "  </tbody>\n",
              "</table>\n",
              "</div>"
            ],
            "text/plain": [
              "         model        age\n",
              "17      Accent  21.000000\n",
              "164         Z3  19.500000\n",
              "10          A2  18.000000\n",
              "34         CLK  17.428571\n",
              "138   Terracan  17.000000"
            ]
          },
          "metadata": {
            "tags": []
          },
          "execution_count": 156
        }
      ]
    },
    {
      "cell_type": "markdown",
      "metadata": {
        "id": "HCti5Wvg60NP"
      },
      "source": [
        "###3 - what is the average price per Manufacturer, Model, Year?"
      ]
    },
    {
      "cell_type": "code",
      "metadata": {
        "colab": {
          "base_uri": "https://localhost:8080/",
          "height": 363
        },
        "id": "ZNkEEkiGPwCJ",
        "outputId": "5b5df1af-d305-41b2-83c9-928907c601a0"
      },
      "source": [
        "df.groupby(['manufacturer' ,'model', 'year']).agg({'price': 'mean'}).reset_index().head(10)"
      ],
      "execution_count": null,
      "outputs": [
        {
          "output_type": "execute_result",
          "data": {
            "text/html": [
              "<div>\n",
              "<style scoped>\n",
              "    .dataframe tbody tr th:only-of-type {\n",
              "        vertical-align: middle;\n",
              "    }\n",
              "\n",
              "    .dataframe tbody tr th {\n",
              "        vertical-align: top;\n",
              "    }\n",
              "\n",
              "    .dataframe thead th {\n",
              "        text-align: right;\n",
              "    }\n",
              "</style>\n",
              "<table border=\"1\" class=\"dataframe\">\n",
              "  <thead>\n",
              "    <tr style=\"text-align: right;\">\n",
              "      <th></th>\n",
              "      <th>manufacturer</th>\n",
              "      <th>model</th>\n",
              "      <th>year</th>\n",
              "      <th>price</th>\n",
              "    </tr>\n",
              "  </thead>\n",
              "  <tbody>\n",
              "    <tr>\n",
              "      <th>0</th>\n",
              "      <td>Audi</td>\n",
              "      <td>A1</td>\n",
              "      <td>2010</td>\n",
              "      <td>9990.000000</td>\n",
              "    </tr>\n",
              "    <tr>\n",
              "      <th>1</th>\n",
              "      <td>Audi</td>\n",
              "      <td>A1</td>\n",
              "      <td>2011</td>\n",
              "      <td>6302.000000</td>\n",
              "    </tr>\n",
              "    <tr>\n",
              "      <th>2</th>\n",
              "      <td>Audi</td>\n",
              "      <td>A1</td>\n",
              "      <td>2012</td>\n",
              "      <td>8090.761905</td>\n",
              "    </tr>\n",
              "    <tr>\n",
              "      <th>3</th>\n",
              "      <td>Audi</td>\n",
              "      <td>A1</td>\n",
              "      <td>2013</td>\n",
              "      <td>8745.982759</td>\n",
              "    </tr>\n",
              "    <tr>\n",
              "      <th>4</th>\n",
              "      <td>Audi</td>\n",
              "      <td>A1</td>\n",
              "      <td>2014</td>\n",
              "      <td>10060.084746</td>\n",
              "    </tr>\n",
              "    <tr>\n",
              "      <th>5</th>\n",
              "      <td>Audi</td>\n",
              "      <td>A1</td>\n",
              "      <td>2015</td>\n",
              "      <td>11245.778378</td>\n",
              "    </tr>\n",
              "    <tr>\n",
              "      <th>6</th>\n",
              "      <td>Audi</td>\n",
              "      <td>A1</td>\n",
              "      <td>2016</td>\n",
              "      <td>12233.848739</td>\n",
              "    </tr>\n",
              "    <tr>\n",
              "      <th>7</th>\n",
              "      <td>Audi</td>\n",
              "      <td>A1</td>\n",
              "      <td>2017</td>\n",
              "      <td>13445.322581</td>\n",
              "    </tr>\n",
              "    <tr>\n",
              "      <th>8</th>\n",
              "      <td>Audi</td>\n",
              "      <td>A1</td>\n",
              "      <td>2018</td>\n",
              "      <td>15469.126582</td>\n",
              "    </tr>\n",
              "    <tr>\n",
              "      <th>9</th>\n",
              "      <td>Audi</td>\n",
              "      <td>A1</td>\n",
              "      <td>2019</td>\n",
              "      <td>21208.438679</td>\n",
              "    </tr>\n",
              "  </tbody>\n",
              "</table>\n",
              "</div>"
            ],
            "text/plain": [
              "  manufacturer model  year         price\n",
              "0         Audi    A1  2010   9990.000000\n",
              "1         Audi    A1  2011   6302.000000\n",
              "2         Audi    A1  2012   8090.761905\n",
              "3         Audi    A1  2013   8745.982759\n",
              "4         Audi    A1  2014  10060.084746\n",
              "5         Audi    A1  2015  11245.778378\n",
              "6         Audi    A1  2016  12233.848739\n",
              "7         Audi    A1  2017  13445.322581\n",
              "8         Audi    A1  2018  15469.126582\n",
              "9         Audi    A1  2019  21208.438679"
            ]
          },
          "metadata": {
            "tags": []
          },
          "execution_count": 157
        }
      ]
    },
    {
      "cell_type": "markdown",
      "metadata": {
        "id": "WZhONZzg7Je9"
      },
      "source": [
        "###4 - which fuel type has the highest average/median MPG/KPL"
      ]
    },
    {
      "cell_type": "code",
      "metadata": {
        "colab": {
          "base_uri": "https://localhost:8080/",
          "height": 237
        },
        "id": "1LGTNRUUVdrF",
        "outputId": "816b6f83-97fa-42e1-f01d-ee4d3813c1d0"
      },
      "source": [
        "# We tried having fun writing everything in one row\r\n",
        "df.groupby('fuelType').\\\r\n",
        "        agg(kpl_mean=('kpl', 'mean'), kpl_median=('kpl', 'median'), mpg_mean=('mpg', 'mean'), mpg_median=('mpg', 'median')).\\\r\n",
        "        sort_values(by = ['kpl_mean'], ascending = False)"
      ],
      "execution_count": null,
      "outputs": [
        {
          "output_type": "execute_result",
          "data": {
            "text/html": [
              "<div>\n",
              "<style scoped>\n",
              "    .dataframe tbody tr th:only-of-type {\n",
              "        vertical-align: middle;\n",
              "    }\n",
              "\n",
              "    .dataframe tbody tr th {\n",
              "        vertical-align: top;\n",
              "    }\n",
              "\n",
              "    .dataframe thead th {\n",
              "        text-align: right;\n",
              "    }\n",
              "</style>\n",
              "<table border=\"1\" class=\"dataframe\">\n",
              "  <thead>\n",
              "    <tr style=\"text-align: right;\">\n",
              "      <th></th>\n",
              "      <th>kpl_mean</th>\n",
              "      <th>kpl_median</th>\n",
              "      <th>mpg_mean</th>\n",
              "      <th>mpg_median</th>\n",
              "    </tr>\n",
              "    <tr>\n",
              "      <th>fuelType</th>\n",
              "      <th></th>\n",
              "      <th></th>\n",
              "      <th></th>\n",
              "      <th></th>\n",
              "    </tr>\n",
              "  </thead>\n",
              "  <tbody>\n",
              "    <tr>\n",
              "      <th>Electric</th>\n",
              "      <td>85.799320</td>\n",
              "      <td>28.613946</td>\n",
              "      <td>201.800000</td>\n",
              "      <td>67.3</td>\n",
              "    </tr>\n",
              "    <tr>\n",
              "      <th>Other</th>\n",
              "      <td>36.482542</td>\n",
              "      <td>27.295918</td>\n",
              "      <td>85.806939</td>\n",
              "      <td>64.2</td>\n",
              "    </tr>\n",
              "    <tr>\n",
              "      <th>Hybrid</th>\n",
              "      <td>36.065988</td>\n",
              "      <td>32.482993</td>\n",
              "      <td>84.827204</td>\n",
              "      <td>76.4</td>\n",
              "    </tr>\n",
              "    <tr>\n",
              "      <th>Diesel</th>\n",
              "      <td>24.578028</td>\n",
              "      <td>25.042517</td>\n",
              "      <td>57.807522</td>\n",
              "      <td>58.9</td>\n",
              "    </tr>\n",
              "    <tr>\n",
              "      <th>Petrol</th>\n",
              "      <td>21.881003</td>\n",
              "      <td>22.236395</td>\n",
              "      <td>51.464118</td>\n",
              "      <td>52.3</td>\n",
              "    </tr>\n",
              "  </tbody>\n",
              "</table>\n",
              "</div>"
            ],
            "text/plain": [
              "           kpl_mean  kpl_median    mpg_mean  mpg_median\n",
              "fuelType                                               \n",
              "Electric  85.799320   28.613946  201.800000        67.3\n",
              "Other     36.482542   27.295918   85.806939        64.2\n",
              "Hybrid    36.065988   32.482993   84.827204        76.4\n",
              "Diesel    24.578028   25.042517   57.807522        58.9\n",
              "Petrol    21.881003   22.236395   51.464118        52.3"
            ]
          },
          "metadata": {
            "tags": []
          },
          "execution_count": 158
        }
      ]
    },
    {
      "cell_type": "markdown",
      "metadata": {
        "id": "7fBFILNI7yzD"
      },
      "source": [
        "## Question 1 - Who is the undisputed manufacturer king of used cars?\r\n",
        "We decided to use a pie chart using pandas.\r\n",
        "\r\n",
        "A pie chart easily shows a percentage from a total."
      ]
    },
    {
      "cell_type": "code",
      "metadata": {
        "colab": {
          "base_uri": "https://localhost:8080/",
          "height": 594
        },
        "id": "TSxFp8R2V0fj",
        "outputId": "481c0917-892c-4136-dfcf-bf7732fb395f"
      },
      "source": [
        "q1 = df['manufacturer'].value_counts()\r\n",
        "q1.plot.pie(figsize=(14, 10), autopct='%1.1f%%', fontsize=16, startangle=90)"
      ],
      "execution_count": null,
      "outputs": [
        {
          "output_type": "execute_result",
          "data": {
            "text/plain": [
              "<matplotlib.axes._subplots.AxesSubplot at 0x7f017c1c0c50>"
            ]
          },
          "metadata": {
            "tags": []
          },
          "execution_count": 159
        },
        {
          "output_type": "display_data",
          "data": {
            "image/png": "[encoded data removed]",
            "text/plain": [
              "<Figure size 1008x720 with 1 Axes>"
            ]
          },
          "metadata": {
            "tags": []
          }
        }
      ]
    },
    {
      "cell_type": "markdown",
      "metadata": {
        "id": "DhCcscVE9qzk"
      },
      "source": [
        "## Question 2 - Which models were not paid tax on, for each manufacturer\r\n",
        "We decided the best way to communicate this list of edge cases, would be a plain report (dataframe)"
      ]
    },
    {
      "cell_type": "code",
      "metadata": {
        "colab": {
          "base_uri": "https://localhost:8080/",
          "height": 1000
        },
        "id": "QrbWDsIrc7tH",
        "outputId": "ea4ec9fa-00c6-4210-bcd4-c3e5fd0c3dc8"
      },
      "source": [
        "df[df['tax'] == 0].groupby(['manufacturer', 'model']).agg(Counter=('model', 'count'))"
      ],
      "execution_count": null,
      "outputs": [
        {
          "output_type": "execute_result",
          "data": {
            "text/html": [
              "<div>\n",
              "<style scoped>\n",
              "    .dataframe tbody tr th:only-of-type {\n",
              "        vertical-align: middle;\n",
              "    }\n",
              "\n",
              "    .dataframe tbody tr th {\n",
              "        vertical-align: top;\n",
              "    }\n",
              "\n",
              "    .dataframe thead th {\n",
              "        text-align: right;\n",
              "    }\n",
              "</style>\n",
              "<table border=\"1\" class=\"dataframe\">\n",
              "  <thead>\n",
              "    <tr style=\"text-align: right;\">\n",
              "      <th></th>\n",
              "      <th></th>\n",
              "      <th>Counter</th>\n",
              "    </tr>\n",
              "    <tr>\n",
              "      <th>manufacturer</th>\n",
              "      <th>model</th>\n",
              "      <th></th>\n",
              "    </tr>\n",
              "  </thead>\n",
              "  <tbody>\n",
              "    <tr>\n",
              "      <th rowspan=\"4\" valign=\"top\">Audi</th>\n",
              "      <th>A1</th>\n",
              "      <td>327</td>\n",
              "    </tr>\n",
              "    <tr>\n",
              "      <th>A3</th>\n",
              "      <td>132</td>\n",
              "    </tr>\n",
              "    <tr>\n",
              "      <th>A4</th>\n",
              "      <td>75</td>\n",
              "    </tr>\n",
              "    <tr>\n",
              "      <th>Q7</th>\n",
              "      <td>2</td>\n",
              "    </tr>\n",
              "    <tr>\n",
              "      <th rowspan=\"7\" valign=\"top\">BMW</th>\n",
              "      <th>1 Series</th>\n",
              "      <td>163</td>\n",
              "    </tr>\n",
              "    <tr>\n",
              "      <th>2 Series</th>\n",
              "      <td>24</td>\n",
              "    </tr>\n",
              "    <tr>\n",
              "      <th>3 Series</th>\n",
              "      <td>96</td>\n",
              "    </tr>\n",
              "    <tr>\n",
              "      <th>7 Series</th>\n",
              "      <td>1</td>\n",
              "    </tr>\n",
              "    <tr>\n",
              "      <th>X5</th>\n",
              "      <td>17</td>\n",
              "    </tr>\n",
              "    <tr>\n",
              "      <th>i3</th>\n",
              "      <td>6</td>\n",
              "    </tr>\n",
              "    <tr>\n",
              "      <th>i8</th>\n",
              "      <td>7</td>\n",
              "    </tr>\n",
              "    <tr>\n",
              "      <th rowspan=\"4\" valign=\"top\">Ford</th>\n",
              "      <th>B-MAX</th>\n",
              "      <td>39</td>\n",
              "    </tr>\n",
              "    <tr>\n",
              "      <th>Fiesta</th>\n",
              "      <td>1530</td>\n",
              "    </tr>\n",
              "    <tr>\n",
              "      <th>Focus</th>\n",
              "      <td>509</td>\n",
              "    </tr>\n",
              "    <tr>\n",
              "      <th>Mondeo</th>\n",
              "      <td>68</td>\n",
              "    </tr>\n",
              "    <tr>\n",
              "      <th rowspan=\"3\" valign=\"top\">Hyundi</th>\n",
              "      <th>I20</th>\n",
              "      <td>4</td>\n",
              "    </tr>\n",
              "    <tr>\n",
              "      <th>I30</th>\n",
              "      <td>103</td>\n",
              "    </tr>\n",
              "    <tr>\n",
              "      <th>Ioniq</th>\n",
              "      <td>27</td>\n",
              "    </tr>\n",
              "    <tr>\n",
              "      <th rowspan=\"4\" valign=\"top\">Mercedes</th>\n",
              "      <th>A Class</th>\n",
              "      <td>53</td>\n",
              "    </tr>\n",
              "    <tr>\n",
              "      <th>B Class</th>\n",
              "      <td>3</td>\n",
              "    </tr>\n",
              "    <tr>\n",
              "      <th>C Class</th>\n",
              "      <td>114</td>\n",
              "    </tr>\n",
              "    <tr>\n",
              "      <th>GLE Class</th>\n",
              "      <td>2</td>\n",
              "    </tr>\n",
              "    <tr>\n",
              "      <th rowspan=\"5\" valign=\"top\">Skoda</th>\n",
              "      <th>Citigo</th>\n",
              "      <td>47</td>\n",
              "    </tr>\n",
              "    <tr>\n",
              "      <th>Fabia</th>\n",
              "      <td>32</td>\n",
              "    </tr>\n",
              "    <tr>\n",
              "      <th>Octavia</th>\n",
              "      <td>112</td>\n",
              "    </tr>\n",
              "    <tr>\n",
              "      <th>Rapid</th>\n",
              "      <td>18</td>\n",
              "    </tr>\n",
              "    <tr>\n",
              "      <th>Superb</th>\n",
              "      <td>8</td>\n",
              "    </tr>\n",
              "    <tr>\n",
              "      <th rowspan=\"6\" valign=\"top\">Toyota</th>\n",
              "      <th>Auris</th>\n",
              "      <td>414</td>\n",
              "    </tr>\n",
              "    <tr>\n",
              "      <th>Aygo</th>\n",
              "      <td>704</td>\n",
              "    </tr>\n",
              "    <tr>\n",
              "      <th>C-HR</th>\n",
              "      <td>94</td>\n",
              "    </tr>\n",
              "    <tr>\n",
              "      <th>IQ</th>\n",
              "      <td>4</td>\n",
              "    </tr>\n",
              "    <tr>\n",
              "      <th>Prius</th>\n",
              "      <td>122</td>\n",
              "    </tr>\n",
              "    <tr>\n",
              "      <th>Yaris</th>\n",
              "      <td>450</td>\n",
              "    </tr>\n",
              "    <tr>\n",
              "      <th rowspan=\"7\" valign=\"top\">VW</th>\n",
              "      <th>Golf</th>\n",
              "      <td>435</td>\n",
              "    </tr>\n",
              "    <tr>\n",
              "      <th>Golf SV</th>\n",
              "      <td>30</td>\n",
              "    </tr>\n",
              "    <tr>\n",
              "      <th>Passat</th>\n",
              "      <td>18</td>\n",
              "    </tr>\n",
              "    <tr>\n",
              "      <th>Polo</th>\n",
              "      <td>91</td>\n",
              "    </tr>\n",
              "    <tr>\n",
              "      <th>Scirocco</th>\n",
              "      <td>1</td>\n",
              "    </tr>\n",
              "    <tr>\n",
              "      <th>T-Roc</th>\n",
              "      <td>1</td>\n",
              "    </tr>\n",
              "    <tr>\n",
              "      <th>Up</th>\n",
              "      <td>13</td>\n",
              "    </tr>\n",
              "  </tbody>\n",
              "</table>\n",
              "</div>"
            ],
            "text/plain": [
              "                         Counter\n",
              "manufacturer model              \n",
              "Audi          A1             327\n",
              "              A3             132\n",
              "              A4              75\n",
              "              Q7               2\n",
              "BMW           1 Series       163\n",
              "              2 Series        24\n",
              "              3 Series        96\n",
              "              7 Series         1\n",
              "              X5              17\n",
              "              i3               6\n",
              "              i8               7\n",
              "Ford          B-MAX           39\n",
              "              Fiesta        1530\n",
              "              Focus          509\n",
              "              Mondeo          68\n",
              "Hyundi        I20              4\n",
              "              I30            103\n",
              "              Ioniq           27\n",
              "Mercedes      A Class         53\n",
              "              B Class          3\n",
              "              C Class        114\n",
              "              GLE Class        2\n",
              "Skoda         Citigo          47\n",
              "              Fabia           32\n",
              "              Octavia        112\n",
              "              Rapid           18\n",
              "              Superb           8\n",
              "Toyota        Auris          414\n",
              "              Aygo           704\n",
              "              C-HR            94\n",
              "              IQ               4\n",
              "              Prius          122\n",
              "              Yaris          450\n",
              "VW            Golf           435\n",
              "              Golf SV         30\n",
              "              Passat          18\n",
              "              Polo            91\n",
              "              Scirocco         1\n",
              "              T-Roc            1\n",
              "              Up              13"
            ]
          },
          "metadata": {
            "tags": []
          },
          "execution_count": 160
        }
      ]
    },
    {
      "cell_type": "markdown",
      "metadata": {
        "id": "doTVpiwt95_h"
      },
      "source": [
        "## Question 3 - Does MPG change through time? If so, which manufacturer improved the most?\r\n",
        "\r\n",
        "We used this opportunity to create \"group by\" on different levels, and completely understand the syntax for merge.\r\n"
      ]
    },
    {
      "cell_type": "code",
      "metadata": {
        "colab": {
          "base_uri": "https://localhost:8080/",
          "height": 613
        },
        "id": "ZBcuy2eDU9SK",
        "outputId": "591eb011-f943-492a-e687-780fec3fb324"
      },
      "source": [
        "q3 = df.groupby(['manufacturer', 'year']).agg(mean_mpg=('mpg', 'mean'))\r\n",
        "q3.reset_index(inplace=True)\r\n",
        "\r\n",
        "min_year = q3.groupby('manufacturer').agg(first_year=('year', 'min'))\r\n",
        "max_year = q3.groupby('manufacturer').agg(last_year=('year', 'max'))\r\n",
        "\r\n",
        "# Same procedure, 2 dataframes:\r\n",
        "q3_A1 = pd.merge(df, min_year, how='left', left_on=['manufacturer', 'year'] , right_on=['manufacturer', 'first_year'])\r\n",
        "q3_A2 = q3_A1[q3_A1['year'] == q3_A1['first_year']]\r\n",
        "q3_A3 = q3_A2.groupby('manufacturer').agg(first_year_mean=('mpg', 'mean'))\r\n",
        "\r\n",
        "q3_B1 = pd.merge(df, max_year, how='left', left_on=['manufacturer', 'year'] , right_on=['manufacturer', 'last_year'])\r\n",
        "q3_B2 = q3_B1[q3_B1['year'] == q3_B1['last_year']]\r\n",
        "q3_B3 = q3_B2.groupby('manufacturer').agg(last_year_mean=('mpg', 'mean'))\r\n",
        "\r\n",
        "# join together\r\n",
        "joined_df = pd.merge(q3_A3, q3_B3, on='manufacturer')\r\n",
        "joined_df['diff'] = joined_df['last_year_mean']-joined_df['first_year_mean']\r\n",
        "\r\n",
        "joined_df.sort_values(by='diff').plot(kind='barh', figsize=(14, 10), y='diff')"
      ],
      "execution_count": null,
      "outputs": [
        {
          "output_type": "execute_result",
          "data": {
            "text/plain": [
              "<matplotlib.axes._subplots.AxesSubplot at 0x7f017b159400>"
            ]
          },
          "metadata": {
            "tags": []
          },
          "execution_count": 161
        },
        {
          "output_type": "display_data",
          "data": {
            "image/png": "[encoded data removed]",
            "text/plain": [
              "<Figure size 1008x720 with 1 Axes>"
            ]
          },
          "metadata": {
            "tags": []
          }
        }
      ]
    },
    {
      "cell_type": "markdown",
      "metadata": {
        "id": "cQZkQUeU--mD"
      },
      "source": [
        "## Question 4 - Does transmission type have an effect on KPL, over time?\r\n"
      ]
    },
    {
      "cell_type": "code",
      "metadata": {
        "colab": {
          "base_uri": "https://localhost:8080/",
          "height": 1000
        },
        "id": "bkHryTha6jxY",
        "outputId": "c275ffd0-58e7-4721-b6bd-523d69019af0"
      },
      "source": [
        "plt.figure(figsize=(14,10))\r\n",
        "\r\n",
        "q4 = sns.lineplot(data=df, x='year', y='kpl', estimator=np.mean,\r\n",
        "                  style='transmission', hue='transmission', marker='o', legend=\"brief\", linewidth=3, ci=None)\r\n",
        "q4.set_xticks(ticks=range(2000, 2021)) # fixes years like 2002.5"
      ],
      "execution_count": null,
      "outputs": [
        {
          "output_type": "execute_result",
          "data": {
            "text/plain": [
              "[<matplotlib.axis.XTick at 0x7f017b15ba20>,\n",
              " <matplotlib.axis.XTick at 0x7f017b15b9e8>,\n",
              " <matplotlib.axis.XTick at 0x7f017b491f98>,\n",
              " <matplotlib.axis.XTick at 0x7f017b488400>,\n",
              " <matplotlib.axis.XTick at 0x7f017b472c88>,\n",
              " <matplotlib.axis.XTick at 0x7f017b4724a8>,\n",
              " <matplotlib.axis.XTick at 0x7f017b46f5f8>,\n",
              " <matplotlib.axis.XTick at 0x7f017b46fa90>,\n",
              " <matplotlib.axis.XTick at 0x7f017b46ff28>,\n",
              " <matplotlib.axis.XTick at 0x7f017b46c400>,\n",
              " <matplotlib.axis.XTick at 0x7f017b46c898>,\n",
              " <matplotlib.axis.XTick at 0x7f017b15b7b8>,\n",
              " <matplotlib.axis.XTick at 0x7f017b491d68>,\n",
              " <matplotlib.axis.XTick at 0x7f017b1125c0>,\n",
              " <matplotlib.axis.XTick at 0x7f017b112a58>,\n",
              " <matplotlib.axis.XTick at 0x7f017b112ef0>,\n",
              " <matplotlib.axis.XTick at 0x7f017b10c3c8>,\n",
              " <matplotlib.axis.XTick at 0x7f017b10c860>,\n",
              " <matplotlib.axis.XTick at 0x7f017b1129e8>,\n",
              " <matplotlib.axis.XTick at 0x7f017b45de10>,\n",
              " <matplotlib.axis.XTick at 0x7f017b10ce48>]"
            ]
          },
          "metadata": {
            "tags": []
          },
          "execution_count": 162
        },
        {
          "output_type": "display_data",
          "data": {
            "image/png": "[encoded data removed]",
            "text/plain": [
              "<Figure size 1008x720 with 1 Axes>"
            ]
          },
          "metadata": {
            "tags": []
          }
        }
      ]
    },
    {
      "cell_type": "markdown",
      "metadata": {
        "id": "4OdIvd8HAMHT"
      },
      "source": [
        "## Question 5 - Which model changed the most in price through time, per age?\r\n",
        "We decided to challenges ourselves and try to create a visual with multiple figures."
      ]
    },
    {
      "cell_type": "code",
      "metadata": {
        "colab": {
          "base_uri": "https://localhost:8080/",
          "height": 705
        },
        "id": "aQ0m8FVSVRgM",
        "outputId": "258070b5-dd84-489c-f6b1-5314c451ab42"
      },
      "source": [
        "df['age_from_2000'] = df['year'] - 2000\r\n",
        "\r\n",
        "q5 = df.groupby(['manufacturer', 'model', 'age_from_2000']).agg(avg_price=('price', 'mean'))\r\n",
        "q5.reset_index(inplace=True)\r\n",
        "\r\n",
        "sns.catplot(x='age_from_2000', y='avg_price', col='manufacturer', data=q5, kind='bar', ci=None,  col_wrap=4)"
      ],
      "execution_count": null,
      "outputs": [
        {
          "output_type": "execute_result",
          "data": {
            "text/plain": [
              "<seaborn.axisgrid.FacetGrid at 0x7f017b10c1d0>"
            ]
          },
          "metadata": {
            "tags": []
          },
          "execution_count": 163
        },
        {
          "output_type": "display_data",
          "data": {
            "image/png": "[encoded data removed]",
            "text/plain": [
              "<Figure size 1440x720 with 8 Axes>"
            ]
          },
          "metadata": {
            "tags": []
          }
        }
      ]
    },
    {
      "cell_type": "markdown",
      "metadata": {
        "id": "PuoWXTGQBT8y"
      },
      "source": [
        "## Question 6 - What is the share of transmission types, over time?\r\n",
        "We wanted to do this one in Seaborn, but couldn't find a way to stack the area charts."
      ]
    },
    {
      "cell_type": "code",
      "metadata": {
        "colab": {
          "base_uri": "https://localhost:8080/",
          "height": 630
        },
        "id": "TYQ2Jbbe_oK0",
        "outputId": "113dd819-9ca4-42a3-e7aa-b2471d47367e"
      },
      "source": [
        "q6 = df.groupby(['transmission', 'year']).agg(Counter=('transmission', 'count'))\r\n",
        "\r\n",
        "q6_A = q6.groupby(['year']).apply(lambda x: 100 * x / float(x.sum())) # Use lambda to normalize values\r\n",
        "q6_A.reset_index(inplace=True)\r\n",
        "\r\n",
        "pivot = q6_A.pivot(index='year', columns='transmission', values='Counter')\r\n",
        "pivot.plot(kind='area', stacked=True, figsize=(14,10))"
      ],
      "execution_count": null,
      "outputs": [
        {
          "output_type": "execute_result",
          "data": {
            "text/plain": [
              "<matplotlib.axes._subplots.AxesSubplot at 0x7f017eb73518>"
            ]
          },
          "metadata": {
            "tags": []
          },
          "execution_count": 164
        },
        {
          "output_type": "display_data",
          "data": {
            "image/png": "[encoded data removed]",
            "text/plain": [
              "<Figure size 1008x720 with 1 Axes>"
            ]
          },
          "metadata": {
            "tags": []
          }
        }
      ]
    },
    {
      "cell_type": "markdown",
      "metadata": {
        "id": "6YhDmytACTsT"
      },
      "source": [
        "## Question 7 - what is the variety of engine sizes per transmission per manufacturer?\r\n",
        "We tried answering this one using WOE, but we think we missed the point.\r\n"
      ]
    },
    {
      "cell_type": "code",
      "metadata": {
        "colab": {
          "base_uri": "https://localhost:8080/",
          "height": 455
        },
        "id": "yNQ8f4WVVSnc",
        "outputId": "9d4a32df-8921-41ea-b8a5-28b21f71117c"
      },
      "source": [
        "df['woe'] = df['manufacturer']+'-'+df['transmission']+'-'+df['engineSize'].astype(str) # Create one big string instead of group by\r\n",
        "\r\n",
        "q7 = df.groupby('woe').agg(counter=('manufacturer', 'count'))\r\n",
        "records = sum(q7['counter'])\r\n",
        "q7['normalized'] = (q7['counter'] / records)*100 # Use sum() to normalize values\r\n",
        "\r\n",
        "q7.sort_values(by='normalized', ascending=False)"
      ],
      "execution_count": null,
      "outputs": [
        {
          "output_type": "execute_result",
          "data": {
            "text/html": [
              "<div>\n",
              "<style scoped>\n",
              "    .dataframe tbody tr th:only-of-type {\n",
              "        vertical-align: middle;\n",
              "    }\n",
              "\n",
              "    .dataframe tbody tr th {\n",
              "        vertical-align: top;\n",
              "    }\n",
              "\n",
              "    .dataframe thead th {\n",
              "        text-align: right;\n",
              "    }\n",
              "</style>\n",
              "<table border=\"1\" class=\"dataframe\">\n",
              "  <thead>\n",
              "    <tr style=\"text-align: right;\">\n",
              "      <th></th>\n",
              "      <th>counter</th>\n",
              "      <th>normalized</th>\n",
              "    </tr>\n",
              "    <tr>\n",
              "      <th>woe</th>\n",
              "      <th></th>\n",
              "      <th></th>\n",
              "    </tr>\n",
              "  </thead>\n",
              "  <tbody>\n",
              "    <tr>\n",
              "      <th>Ford-Manual-1.0</th>\n",
              "      <td>7072</td>\n",
              "      <td>8.297450</td>\n",
              "    </tr>\n",
              "    <tr>\n",
              "      <th>BMW-Semi-Auto-2.0</th>\n",
              "      <td>2957</td>\n",
              "      <td>3.469395</td>\n",
              "    </tr>\n",
              "    <tr>\n",
              "      <th>Ford-Manual-1.5</th>\n",
              "      <td>2853</td>\n",
              "      <td>3.347374</td>\n",
              "    </tr>\n",
              "    <tr>\n",
              "      <th>VW-Manual-1.0</th>\n",
              "      <td>2761</td>\n",
              "      <td>3.239432</td>\n",
              "    </tr>\n",
              "    <tr>\n",
              "      <th>Ford-Manual-2.0</th>\n",
              "      <td>2454</td>\n",
              "      <td>2.879234</td>\n",
              "    </tr>\n",
              "    <tr>\n",
              "      <th>...</th>\n",
              "      <td>...</td>\n",
              "      <td>...</td>\n",
              "    </tr>\n",
              "    <tr>\n",
              "      <th>BMW-Automatic-3.5</th>\n",
              "      <td>1</td>\n",
              "      <td>0.001173</td>\n",
              "    </tr>\n",
              "    <tr>\n",
              "      <th>BMW-Automatic-3.2</th>\n",
              "      <td>1</td>\n",
              "      <td>0.001173</td>\n",
              "    </tr>\n",
              "    <tr>\n",
              "      <th>BMW-Automatic-1.0</th>\n",
              "      <td>1</td>\n",
              "      <td>0.001173</td>\n",
              "    </tr>\n",
              "    <tr>\n",
              "      <th>Toyota-Other-1.5</th>\n",
              "      <td>1</td>\n",
              "      <td>0.001173</td>\n",
              "    </tr>\n",
              "    <tr>\n",
              "      <th>BMW-Semi-Auto-4.0</th>\n",
              "      <td>1</td>\n",
              "      <td>0.001173</td>\n",
              "    </tr>\n",
              "  </tbody>\n",
              "</table>\n",
              "<p>271 rows × 2 columns</p>\n",
              "</div>"
            ],
            "text/plain": [
              "                   counter  normalized\n",
              "woe                                   \n",
              "Ford-Manual-1.0       7072    8.297450\n",
              "BMW-Semi-Auto-2.0     2957    3.469395\n",
              "Ford-Manual-1.5       2853    3.347374\n",
              "VW-Manual-1.0         2761    3.239432\n",
              "Ford-Manual-2.0       2454    2.879234\n",
              "...                    ...         ...\n",
              "BMW-Automatic-3.5        1    0.001173\n",
              "BMW-Automatic-3.2        1    0.001173\n",
              "BMW-Automatic-1.0        1    0.001173\n",
              "Toyota-Other-1.5         1    0.001173\n",
              "BMW-Semi-Auto-4.0        1    0.001173\n",
              "\n",
              "[271 rows x 2 columns]"
            ]
          },
          "metadata": {
            "tags": []
          },
          "execution_count": 165
        }
      ]
    },
    {
      "cell_type": "markdown",
      "metadata": {
        "id": "eI8HsypgDll4"
      },
      "source": [
        "## Question 8 - What is the most contributing factor that affects the price?\r\n",
        "We decided a correlation heatmap would be the best choice."
      ]
    },
    {
      "cell_type": "code",
      "metadata": {
        "colab": {
          "base_uri": "https://localhost:8080/",
          "height": 617
        },
        "id": "WTPgAKpQTo0l",
        "outputId": "8d2ccbcc-d5d8-40ac-b357-6bb6114e9086"
      },
      "source": [
        "plt.figure(figsize=(14,10))\r\n",
        "q8 = df[['year', 'price', 'mileage', 'kpl', 'engineSize']]\r\n",
        "\r\n",
        "sns.set(font_scale=1.5) # Increase font size\r\n",
        "sns.heatmap(data=q8.corr(), cmap='Blues', annot=True)"
      ],
      "execution_count": null,
      "outputs": [
        {
          "output_type": "execute_result",
          "data": {
            "text/plain": [
              "<matplotlib.axes._subplots.AxesSubplot at 0x7f017b15bcf8>"
            ]
          },
          "metadata": {
            "tags": []
          },
          "execution_count": 166
        },
        {
          "output_type": "display_data",
          "data": {
            "image/png": "[encoded data removed]",
            "text/plain": [
              "<Figure size 1008x720 with 2 Axes>"
            ]
          },
          "metadata": {
            "tags": []
          }
        }
      ]
    }
  ]
}