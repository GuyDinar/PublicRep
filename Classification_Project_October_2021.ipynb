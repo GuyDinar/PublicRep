{
  "nbformat": 4,
  "nbformat_minor": 0,
  "metadata": {
    "colab": {
      "name": "Classification_Project_October_2021.ipynb",
      "provenance": [],
      "collapsed_sections": [],
      "toc_visible": true
    },
    "kernelspec": {
      "name": "python3",
      "display_name": "Python 3"
    },
    "language_info": {
      "name": "python"
    }
  },
  "cells": [
    {
      "cell_type": "markdown",
      "metadata": {
        "id": "qdusYRk6B-zQ"
      },
      "source": [
        "# Eliran Refaeli & Guy Dinar"
      ]
    },
    {
      "cell_type": "code",
      "metadata": {
        "id": "dE9SQNM1DA_r"
      },
      "source": [
        "import numpy as np\n",
        "import pandas as pd\n",
        "import seaborn as sns\n",
        "from matplotlib import pyplot as plt\n",
        "from sklearn.model_selection import train_test_split\n",
        "from sklearn.ensemble import RandomForestClassifier\n",
        "from sklearn.metrics import f1_score, accuracy_score, precision_score, recall_score, make_scorer, log_loss\n",
        "from sklearn.metrics import confusion_matrix\n",
        "from sklearn.metrics import classification_report\n",
        "from sklearn.metrics import roc_auc_score, plot_roc_curve\n",
        "from sklearn.model_selection import train_test_split, cross_val_score, GridSearchCV\n",
        "from sklearn.metrics import RocCurveDisplay\n",
        "from sklearn.linear_model import LogisticRegression\n",
        "\n",
        "from sklearn.pipeline import Pipeline\n",
        "\n",
        "\n",
        "%matplotlib inline"
      ],
      "execution_count": 1,
      "outputs": []
    },
    {
      "cell_type": "markdown",
      "metadata": {
        "id": "21qs5QEVkRz7"
      },
      "source": [
        "1. How many rows we have deleted after the EDA."
      ]
    },
    {
      "cell_type": "markdown",
      "metadata": {
        "id": "QV5GtLHfCKs3"
      },
      "source": [
        "# Dataset"
      ]
    },
    {
      "cell_type": "code",
      "metadata": {
        "id": "OGCzEYUQB_42"
      },
      "source": [
        "dataset = 'https://raw.githubusercontent.com/GuyDinar/PublicRep/main/Classification%20Dataset/home-insurance-raw-data.csv'\n",
        "df = pd.read_csv(dataset)"
      ],
      "execution_count": 2,
      "outputs": []
    },
    {
      "cell_type": "markdown",
      "metadata": {
        "id": "BRfdeINutG92"
      },
      "source": [
        "## First look"
      ]
    },
    {
      "cell_type": "code",
      "metadata": {
        "colab": {
          "base_uri": "https://localhost:8080/",
          "height": 226
        },
        "id": "xdFph-4mDU8x",
        "outputId": "129627ac-8f08-4ba1-ab68-5df5d954801a"
      },
      "source": [
        "row_s, col_s = df.shape\n",
        "\n",
        "df.head()"
      ],
      "execution_count": 3,
      "outputs": [
        {
          "output_type": "execute_result",
          "data": {
            "text/html": [
              "<div>\n",
              "<style scoped>\n",
              "    .dataframe tbody tr th:only-of-type {\n",
              "        vertical-align: middle;\n",
              "    }\n",
              "\n",
              "    .dataframe tbody tr th {\n",
              "        vertical-align: top;\n",
              "    }\n",
              "\n",
              "    .dataframe thead th {\n",
              "        text-align: right;\n",
              "    }\n",
              "</style>\n",
              "<table border=\"1\" class=\"dataframe\">\n",
              "  <thead>\n",
              "    <tr style=\"text-align: right;\">\n",
              "      <th></th>\n",
              "      <th>id</th>\n",
              "      <th>state</th>\n",
              "      <th>postal_code</th>\n",
              "      <th>product</th>\n",
              "      <th>user_id</th>\n",
              "      <th>square_ft</th>\n",
              "      <th>high_risk_dog</th>\n",
              "      <th>has_fire_alarm</th>\n",
              "      <th>has_burglar_alarm</th>\n",
              "      <th>portable_electronics</th>\n",
              "      <th>coast</th>\n",
              "      <th>fire_housing_proximity</th>\n",
              "      <th>previous_policies</th>\n",
              "      <th>user_age</th>\n",
              "      <th>card_type</th>\n",
              "      <th>target</th>\n",
              "    </tr>\n",
              "  </thead>\n",
              "  <tbody>\n",
              "    <tr>\n",
              "      <th>0</th>\n",
              "      <td>2.492010e+18</td>\n",
              "      <td>NM</td>\n",
              "      <td>87043</td>\n",
              "      <td>ho4</td>\n",
              "      <td>-9.160050e+18</td>\n",
              "      <td>NaN</td>\n",
              "      <td>0</td>\n",
              "      <td>True</td>\n",
              "      <td>True</td>\n",
              "      <td>0.0</td>\n",
              "      <td>NaN</td>\n",
              "      <td>5</td>\n",
              "      <td>0</td>\n",
              "      <td>39.0</td>\n",
              "      <td>credit</td>\n",
              "      <td>False</td>\n",
              "    </tr>\n",
              "    <tr>\n",
              "      <th>1</th>\n",
              "      <td>8.860750e+17</td>\n",
              "      <td>WI</td>\n",
              "      <td>53715</td>\n",
              "      <td>ho4</td>\n",
              "      <td>-8.929000e+18</td>\n",
              "      <td>NaN</td>\n",
              "      <td>0</td>\n",
              "      <td>True</td>\n",
              "      <td>False</td>\n",
              "      <td>1.0</td>\n",
              "      <td>30.0</td>\n",
              "      <td>1</td>\n",
              "      <td>0</td>\n",
              "      <td>19.0</td>\n",
              "      <td>debit</td>\n",
              "      <td>False</td>\n",
              "    </tr>\n",
              "    <tr>\n",
              "      <th>2</th>\n",
              "      <td>5.527290e+18</td>\n",
              "      <td>WI</td>\n",
              "      <td>53211</td>\n",
              "      <td>ho4</td>\n",
              "      <td>-9.015980e+18</td>\n",
              "      <td>NaN</td>\n",
              "      <td>0</td>\n",
              "      <td>True</td>\n",
              "      <td>False</td>\n",
              "      <td>1.0</td>\n",
              "      <td>1.0</td>\n",
              "      <td>1</td>\n",
              "      <td>0</td>\n",
              "      <td>20.0</td>\n",
              "      <td>debit</td>\n",
              "      <td>True</td>\n",
              "    </tr>\n",
              "    <tr>\n",
              "      <th>3</th>\n",
              "      <td>6.453400e+18</td>\n",
              "      <td>NM</td>\n",
              "      <td>88012</td>\n",
              "      <td>ho4</td>\n",
              "      <td>-9.060030e+18</td>\n",
              "      <td>NaN</td>\n",
              "      <td>0</td>\n",
              "      <td>True</td>\n",
              "      <td>True</td>\n",
              "      <td>1.0</td>\n",
              "      <td>NaN</td>\n",
              "      <td>1</td>\n",
              "      <td>0</td>\n",
              "      <td>33.0</td>\n",
              "      <td>debit</td>\n",
              "      <td>False</td>\n",
              "    </tr>\n",
              "    <tr>\n",
              "      <th>4</th>\n",
              "      <td>-8.836390e+18</td>\n",
              "      <td>AR</td>\n",
              "      <td>72116</td>\n",
              "      <td>ho4</td>\n",
              "      <td>-8.801720e+18</td>\n",
              "      <td>NaN</td>\n",
              "      <td>0</td>\n",
              "      <td>False</td>\n",
              "      <td>False</td>\n",
              "      <td>1.0</td>\n",
              "      <td>NaN</td>\n",
              "      <td>1</td>\n",
              "      <td>0</td>\n",
              "      <td>20.0</td>\n",
              "      <td>debit</td>\n",
              "      <td>False</td>\n",
              "    </tr>\n",
              "  </tbody>\n",
              "</table>\n",
              "</div>"
            ],
            "text/plain": [
              "             id state  postal_code  ... user_age  card_type  target\n",
              "0  2.492010e+18    NM        87043  ...     39.0     credit   False\n",
              "1  8.860750e+17    WI        53715  ...     19.0      debit   False\n",
              "2  5.527290e+18    WI        53211  ...     20.0      debit    True\n",
              "3  6.453400e+18    NM        88012  ...     33.0      debit   False\n",
              "4 -8.836390e+18    AR        72116  ...     20.0      debit   False\n",
              "\n",
              "[5 rows x 16 columns]"
            ]
          },
          "metadata": {},
          "execution_count": 3
        }
      ]
    },
    {
      "cell_type": "markdown",
      "metadata": {
        "id": "Qp7LE1EttKJd"
      },
      "source": [
        "## Basic info & Describe"
      ]
    },
    {
      "cell_type": "code",
      "metadata": {
        "colab": {
          "base_uri": "https://localhost:8080/"
        },
        "id": "cMzwbBAVDaZf",
        "outputId": "4a84f125-fa53-4b77-ef01-c85e70898399"
      },
      "source": [
        "df.info()"
      ],
      "execution_count": 4,
      "outputs": [
        {
          "output_type": "stream",
          "name": "stdout",
          "text": [
            "<class 'pandas.core.frame.DataFrame'>\n",
            "RangeIndex: 12397 entries, 0 to 12396\n",
            "Data columns (total 16 columns):\n",
            " #   Column                  Non-Null Count  Dtype  \n",
            "---  ------                  --------------  -----  \n",
            " 0   id                      12397 non-null  float64\n",
            " 1   state                   12397 non-null  object \n",
            " 2   postal_code             12397 non-null  int64  \n",
            " 3   product                 12397 non-null  object \n",
            " 4   user_id                 12397 non-null  float64\n",
            " 5   square_ft               279 non-null    float64\n",
            " 6   high_risk_dog           12397 non-null  int64  \n",
            " 7   has_fire_alarm          12397 non-null  bool   \n",
            " 8   has_burglar_alarm       12397 non-null  bool   \n",
            " 9   portable_electronics    11990 non-null  float64\n",
            " 10  coast                   11242 non-null  float64\n",
            " 11  fire_housing_proximity  12397 non-null  object \n",
            " 12  previous_policies       12397 non-null  int64  \n",
            " 13  user_age                12315 non-null  float64\n",
            " 14  card_type               12345 non-null  object \n",
            " 15  target                  12397 non-null  bool   \n",
            "dtypes: bool(3), float64(6), int64(3), object(4)\n",
            "memory usage: 1.3+ MB\n"
          ]
        }
      ]
    },
    {
      "cell_type": "markdown",
      "metadata": {
        "id": "224AKEIvtTa_"
      },
      "source": [
        "Fields with nulls:\n",
        "\n",
        "square_ft, portable_electronics, coast, user_age, card_type"
      ]
    },
    {
      "cell_type": "code",
      "metadata": {
        "colab": {
          "base_uri": "https://localhost:8080/",
          "height": 414
        },
        "id": "GjR1vFh8DlvT",
        "outputId": "056b7def-78a2-4be7-81a0-36139c1627aa"
      },
      "source": [
        "df.describe(include='all')\n",
        "# Unbalanced Data!!!!!!!!!!! df.target.value_counts() Oversampling / undersampling / give weights"
      ],
      "execution_count": 5,
      "outputs": [
        {
          "output_type": "execute_result",
          "data": {
            "text/html": [
              "<div>\n",
              "<style scoped>\n",
              "    .dataframe tbody tr th:only-of-type {\n",
              "        vertical-align: middle;\n",
              "    }\n",
              "\n",
              "    .dataframe tbody tr th {\n",
              "        vertical-align: top;\n",
              "    }\n",
              "\n",
              "    .dataframe thead th {\n",
              "        text-align: right;\n",
              "    }\n",
              "</style>\n",
              "<table border=\"1\" class=\"dataframe\">\n",
              "  <thead>\n",
              "    <tr style=\"text-align: right;\">\n",
              "      <th></th>\n",
              "      <th>id</th>\n",
              "      <th>state</th>\n",
              "      <th>postal_code</th>\n",
              "      <th>product</th>\n",
              "      <th>user_id</th>\n",
              "      <th>square_ft</th>\n",
              "      <th>high_risk_dog</th>\n",
              "      <th>has_fire_alarm</th>\n",
              "      <th>has_burglar_alarm</th>\n",
              "      <th>portable_electronics</th>\n",
              "      <th>coast</th>\n",
              "      <th>fire_housing_proximity</th>\n",
              "      <th>previous_policies</th>\n",
              "      <th>user_age</th>\n",
              "      <th>card_type</th>\n",
              "      <th>target</th>\n",
              "    </tr>\n",
              "  </thead>\n",
              "  <tbody>\n",
              "    <tr>\n",
              "      <th>count</th>\n",
              "      <td>1.239700e+04</td>\n",
              "      <td>12397</td>\n",
              "      <td>12397.000000</td>\n",
              "      <td>12397</td>\n",
              "      <td>1.239700e+04</td>\n",
              "      <td>279.000000</td>\n",
              "      <td>12397.0</td>\n",
              "      <td>12397</td>\n",
              "      <td>12397</td>\n",
              "      <td>11990.000000</td>\n",
              "      <td>11242.000000</td>\n",
              "      <td>12397</td>\n",
              "      <td>12397.000000</td>\n",
              "      <td>12315.000000</td>\n",
              "      <td>12345</td>\n",
              "      <td>12397</td>\n",
              "    </tr>\n",
              "    <tr>\n",
              "      <th>unique</th>\n",
              "      <td>NaN</td>\n",
              "      <td>21</td>\n",
              "      <td>NaN</td>\n",
              "      <td>3</td>\n",
              "      <td>NaN</td>\n",
              "      <td>NaN</td>\n",
              "      <td>NaN</td>\n",
              "      <td>2</td>\n",
              "      <td>2</td>\n",
              "      <td>NaN</td>\n",
              "      <td>NaN</td>\n",
              "      <td>15</td>\n",
              "      <td>NaN</td>\n",
              "      <td>NaN</td>\n",
              "      <td>3</td>\n",
              "      <td>2</td>\n",
              "    </tr>\n",
              "    <tr>\n",
              "      <th>top</th>\n",
              "      <td>NaN</td>\n",
              "      <td>CA</td>\n",
              "      <td>NaN</td>\n",
              "      <td>ho4</td>\n",
              "      <td>NaN</td>\n",
              "      <td>NaN</td>\n",
              "      <td>NaN</td>\n",
              "      <td>True</td>\n",
              "      <td>False</td>\n",
              "      <td>NaN</td>\n",
              "      <td>NaN</td>\n",
              "      <td>1</td>\n",
              "      <td>NaN</td>\n",
              "      <td>NaN</td>\n",
              "      <td>debit</td>\n",
              "      <td>False</td>\n",
              "    </tr>\n",
              "    <tr>\n",
              "      <th>freq</th>\n",
              "      <td>NaN</td>\n",
              "      <td>3798</td>\n",
              "      <td>NaN</td>\n",
              "      <td>12127</td>\n",
              "      <td>NaN</td>\n",
              "      <td>NaN</td>\n",
              "      <td>NaN</td>\n",
              "      <td>9395</td>\n",
              "      <td>10721</td>\n",
              "      <td>NaN</td>\n",
              "      <td>NaN</td>\n",
              "      <td>6391</td>\n",
              "      <td>NaN</td>\n",
              "      <td>NaN</td>\n",
              "      <td>7131</td>\n",
              "      <td>12116</td>\n",
              "    </tr>\n",
              "    <tr>\n",
              "      <th>mean</th>\n",
              "      <td>-1.303499e+16</td>\n",
              "      <td>NaN</td>\n",
              "      <td>62576.877309</td>\n",
              "      <td>NaN</td>\n",
              "      <td>-9.009474e+18</td>\n",
              "      <td>1457.498208</td>\n",
              "      <td>0.0</td>\n",
              "      <td>NaN</td>\n",
              "      <td>NaN</td>\n",
              "      <td>0.336364</td>\n",
              "      <td>17.839619</td>\n",
              "      <td>NaN</td>\n",
              "      <td>0.237961</td>\n",
              "      <td>31.085668</td>\n",
              "      <td>NaN</td>\n",
              "      <td>NaN</td>\n",
              "    </tr>\n",
              "    <tr>\n",
              "      <th>std</th>\n",
              "      <td>5.326267e+18</td>\n",
              "      <td>NaN</td>\n",
              "      <td>32553.186912</td>\n",
              "      <td>NaN</td>\n",
              "      <td>1.237394e+17</td>\n",
              "      <td>728.877297</td>\n",
              "      <td>0.0</td>\n",
              "      <td>NaN</td>\n",
              "      <td>NaN</td>\n",
              "      <td>0.472485</td>\n",
              "      <td>12.128988</td>\n",
              "      <td>NaN</td>\n",
              "      <td>0.527252</td>\n",
              "      <td>10.000254</td>\n",
              "      <td>NaN</td>\n",
              "      <td>NaN</td>\n",
              "    </tr>\n",
              "    <tr>\n",
              "      <th>min</th>\n",
              "      <td>-9.221130e+18</td>\n",
              "      <td>NaN</td>\n",
              "      <td>2840.000000</td>\n",
              "      <td>NaN</td>\n",
              "      <td>-9.223350e+18</td>\n",
              "      <td>100.000000</td>\n",
              "      <td>0.0</td>\n",
              "      <td>NaN</td>\n",
              "      <td>NaN</td>\n",
              "      <td>0.000000</td>\n",
              "      <td>0.000000</td>\n",
              "      <td>NaN</td>\n",
              "      <td>0.000000</td>\n",
              "      <td>17.000000</td>\n",
              "      <td>NaN</td>\n",
              "      <td>NaN</td>\n",
              "    </tr>\n",
              "    <tr>\n",
              "      <th>25%</th>\n",
              "      <td>-4.604830e+18</td>\n",
              "      <td>NaN</td>\n",
              "      <td>30084.000000</td>\n",
              "      <td>NaN</td>\n",
              "      <td>-9.117380e+18</td>\n",
              "      <td>850.000000</td>\n",
              "      <td>0.0</td>\n",
              "      <td>NaN</td>\n",
              "      <td>NaN</td>\n",
              "      <td>0.000000</td>\n",
              "      <td>4.000000</td>\n",
              "      <td>NaN</td>\n",
              "      <td>0.000000</td>\n",
              "      <td>24.000000</td>\n",
              "      <td>NaN</td>\n",
              "      <td>NaN</td>\n",
              "    </tr>\n",
              "    <tr>\n",
              "      <th>50%</th>\n",
              "      <td>-2.537840e+16</td>\n",
              "      <td>NaN</td>\n",
              "      <td>77006.000000</td>\n",
              "      <td>NaN</td>\n",
              "      <td>-9.009450e+18</td>\n",
              "      <td>1350.000000</td>\n",
              "      <td>0.0</td>\n",
              "      <td>NaN</td>\n",
              "      <td>NaN</td>\n",
              "      <td>0.000000</td>\n",
              "      <td>20.000000</td>\n",
              "      <td>NaN</td>\n",
              "      <td>0.000000</td>\n",
              "      <td>29.000000</td>\n",
              "      <td>NaN</td>\n",
              "      <td>NaN</td>\n",
              "    </tr>\n",
              "    <tr>\n",
              "      <th>75%</th>\n",
              "      <td>4.593520e+18</td>\n",
              "      <td>NaN</td>\n",
              "      <td>91367.000000</td>\n",
              "      <td>NaN</td>\n",
              "      <td>-8.902650e+18</td>\n",
              "      <td>1907.500000</td>\n",
              "      <td>0.0</td>\n",
              "      <td>NaN</td>\n",
              "      <td>NaN</td>\n",
              "      <td>1.000000</td>\n",
              "      <td>30.000000</td>\n",
              "      <td>NaN</td>\n",
              "      <td>0.000000</td>\n",
              "      <td>35.000000</td>\n",
              "      <td>NaN</td>\n",
              "      <td>NaN</td>\n",
              "    </tr>\n",
              "    <tr>\n",
              "      <th>max</th>\n",
              "      <td>9.222860e+18</td>\n",
              "      <td>NaN</td>\n",
              "      <td>97702.000000</td>\n",
              "      <td>NaN</td>\n",
              "      <td>-8.796310e+18</td>\n",
              "      <td>4478.000000</td>\n",
              "      <td>0.0</td>\n",
              "      <td>NaN</td>\n",
              "      <td>NaN</td>\n",
              "      <td>1.000000</td>\n",
              "      <td>30.000000</td>\n",
              "      <td>NaN</td>\n",
              "      <td>7.000000</td>\n",
              "      <td>112.000000</td>\n",
              "      <td>NaN</td>\n",
              "      <td>NaN</td>\n",
              "    </tr>\n",
              "  </tbody>\n",
              "</table>\n",
              "</div>"
            ],
            "text/plain": [
              "                  id  state   postal_code  ...      user_age  card_type  target\n",
              "count   1.239700e+04  12397  12397.000000  ...  12315.000000      12345   12397\n",
              "unique           NaN     21           NaN  ...           NaN          3       2\n",
              "top              NaN     CA           NaN  ...           NaN      debit   False\n",
              "freq             NaN   3798           NaN  ...           NaN       7131   12116\n",
              "mean   -1.303499e+16    NaN  62576.877309  ...     31.085668        NaN     NaN\n",
              "std     5.326267e+18    NaN  32553.186912  ...     10.000254        NaN     NaN\n",
              "min    -9.221130e+18    NaN   2840.000000  ...     17.000000        NaN     NaN\n",
              "25%    -4.604830e+18    NaN  30084.000000  ...     24.000000        NaN     NaN\n",
              "50%    -2.537840e+16    NaN  77006.000000  ...     29.000000        NaN     NaN\n",
              "75%     4.593520e+18    NaN  91367.000000  ...     35.000000        NaN     NaN\n",
              "max     9.222860e+18    NaN  97702.000000  ...    112.000000        NaN     NaN\n",
              "\n",
              "[11 rows x 16 columns]"
            ]
          },
          "metadata": {},
          "execution_count": 5
        }
      ]
    },
    {
      "cell_type": "code",
      "metadata": {
        "colab": {
          "base_uri": "https://localhost:8080/",
          "height": 360
        },
        "id": "33E0VpEG-edz",
        "outputId": "3f2c673e-87c9-4da6-8e14-46957dfa27b5"
      },
      "source": [
        "# Correlation\n",
        "sns.heatmap(df.corr());"
      ],
      "execution_count": 6,
      "outputs": [
        {
          "output_type": "display_data",
          "data": {
            "image/png": "[encoded data removed]",
            "text/plain": [
              "<Figure size 432x288 with 2 Axes>"
            ]
          },
          "metadata": {
            "needs_background": "light"
          }
        }
      ]
    },
    {
      "cell_type": "markdown",
      "metadata": {
        "id": "s3ipvfxut-jO"
      },
      "source": [
        "Fields to edit:\n",
        "\n",
        "- has_fire_alarm\n",
        "- has_burglar_alarm\n",
        "- card_type"
      ]
    },
    {
      "cell_type": "code",
      "metadata": {
        "colab": {
          "base_uri": "https://localhost:8080/",
          "height": 320
        },
        "id": "Z602gB_fHSrx",
        "outputId": "6f55cd54-dd67-499a-9686-b91d07c1142b"
      },
      "source": [
        "# rows with more than 4 missing columns\n",
        "df[(df.isnull().sum(axis=1) >= 4)]"
      ],
      "execution_count": 7,
      "outputs": [
        {
          "output_type": "execute_result",
          "data": {
            "text/html": [
              "<div>\n",
              "<style scoped>\n",
              "    .dataframe tbody tr th:only-of-type {\n",
              "        vertical-align: middle;\n",
              "    }\n",
              "\n",
              "    .dataframe tbody tr th {\n",
              "        vertical-align: top;\n",
              "    }\n",
              "\n",
              "    .dataframe thead th {\n",
              "        text-align: right;\n",
              "    }\n",
              "</style>\n",
              "<table border=\"1\" class=\"dataframe\">\n",
              "  <thead>\n",
              "    <tr style=\"text-align: right;\">\n",
              "      <th></th>\n",
              "      <th>id</th>\n",
              "      <th>state</th>\n",
              "      <th>postal_code</th>\n",
              "      <th>product</th>\n",
              "      <th>user_id</th>\n",
              "      <th>square_ft</th>\n",
              "      <th>high_risk_dog</th>\n",
              "      <th>has_fire_alarm</th>\n",
              "      <th>has_burglar_alarm</th>\n",
              "      <th>portable_electronics</th>\n",
              "      <th>coast</th>\n",
              "      <th>fire_housing_proximity</th>\n",
              "      <th>previous_policies</th>\n",
              "      <th>user_age</th>\n",
              "      <th>card_type</th>\n",
              "      <th>target</th>\n",
              "    </tr>\n",
              "  </thead>\n",
              "  <tbody>\n",
              "    <tr>\n",
              "      <th>16</th>\n",
              "      <td>-8.015960e+17</td>\n",
              "      <td>IA</td>\n",
              "      <td>52246</td>\n",
              "      <td>ho4</td>\n",
              "      <td>-9.029900e+18</td>\n",
              "      <td>NaN</td>\n",
              "      <td>0</td>\n",
              "      <td>False</td>\n",
              "      <td>False</td>\n",
              "      <td>NaN</td>\n",
              "      <td>NaN</td>\n",
              "      <td>2</td>\n",
              "      <td>0</td>\n",
              "      <td>NaN</td>\n",
              "      <td>debit</td>\n",
              "      <td>False</td>\n",
              "    </tr>\n",
              "    <tr>\n",
              "      <th>1790</th>\n",
              "      <td>-6.234530e+18</td>\n",
              "      <td>CA</td>\n",
              "      <td>91354</td>\n",
              "      <td>ho4</td>\n",
              "      <td>-8.845690e+18</td>\n",
              "      <td>NaN</td>\n",
              "      <td>0</td>\n",
              "      <td>False</td>\n",
              "      <td>False</td>\n",
              "      <td>NaN</td>\n",
              "      <td>30.0</td>\n",
              "      <td>4</td>\n",
              "      <td>0</td>\n",
              "      <td>NaN</td>\n",
              "      <td>NaN</td>\n",
              "      <td>False</td>\n",
              "    </tr>\n",
              "    <tr>\n",
              "      <th>5559</th>\n",
              "      <td>-7.819600e+18</td>\n",
              "      <td>MI</td>\n",
              "      <td>49009</td>\n",
              "      <td>ho4</td>\n",
              "      <td>-9.022010e+18</td>\n",
              "      <td>NaN</td>\n",
              "      <td>0</td>\n",
              "      <td>False</td>\n",
              "      <td>False</td>\n",
              "      <td>NaN</td>\n",
              "      <td>NaN</td>\n",
              "      <td>4</td>\n",
              "      <td>0</td>\n",
              "      <td>NaN</td>\n",
              "      <td>debit</td>\n",
              "      <td>False</td>\n",
              "    </tr>\n",
              "    <tr>\n",
              "      <th>6062</th>\n",
              "      <td>2.383860e+18</td>\n",
              "      <td>NV</td>\n",
              "      <td>89122</td>\n",
              "      <td>ho4</td>\n",
              "      <td>-9.071920e+18</td>\n",
              "      <td>NaN</td>\n",
              "      <td>0</td>\n",
              "      <td>False</td>\n",
              "      <td>False</td>\n",
              "      <td>NaN</td>\n",
              "      <td>NaN</td>\n",
              "      <td>2</td>\n",
              "      <td>0</td>\n",
              "      <td>NaN</td>\n",
              "      <td>debit</td>\n",
              "      <td>False</td>\n",
              "    </tr>\n",
              "    <tr>\n",
              "      <th>8437</th>\n",
              "      <td>4.784160e+18</td>\n",
              "      <td>OH</td>\n",
              "      <td>43110</td>\n",
              "      <td>ho4</td>\n",
              "      <td>-8.921790e+18</td>\n",
              "      <td>NaN</td>\n",
              "      <td>0</td>\n",
              "      <td>False</td>\n",
              "      <td>False</td>\n",
              "      <td>NaN</td>\n",
              "      <td>NaN</td>\n",
              "      <td>3</td>\n",
              "      <td>0</td>\n",
              "      <td>NaN</td>\n",
              "      <td>debit</td>\n",
              "      <td>False</td>\n",
              "    </tr>\n",
              "    <tr>\n",
              "      <th>8605</th>\n",
              "      <td>8.910550e+18</td>\n",
              "      <td>OH</td>\n",
              "      <td>43209</td>\n",
              "      <td>ho4</td>\n",
              "      <td>-8.813950e+18</td>\n",
              "      <td>NaN</td>\n",
              "      <td>0</td>\n",
              "      <td>False</td>\n",
              "      <td>False</td>\n",
              "      <td>NaN</td>\n",
              "      <td>NaN</td>\n",
              "      <td>3</td>\n",
              "      <td>0</td>\n",
              "      <td>NaN</td>\n",
              "      <td>debit</td>\n",
              "      <td>False</td>\n",
              "    </tr>\n",
              "    <tr>\n",
              "      <th>8894</th>\n",
              "      <td>2.463720e+18</td>\n",
              "      <td>PA</td>\n",
              "      <td>19380</td>\n",
              "      <td>ho4</td>\n",
              "      <td>-8.809470e+18</td>\n",
              "      <td>NaN</td>\n",
              "      <td>0</td>\n",
              "      <td>False</td>\n",
              "      <td>False</td>\n",
              "      <td>NaN</td>\n",
              "      <td>NaN</td>\n",
              "      <td>4</td>\n",
              "      <td>0</td>\n",
              "      <td>NaN</td>\n",
              "      <td>debit</td>\n",
              "      <td>False</td>\n",
              "    </tr>\n",
              "    <tr>\n",
              "      <th>10209</th>\n",
              "      <td>5.736360e+18</td>\n",
              "      <td>TX</td>\n",
              "      <td>77380</td>\n",
              "      <td>ho4</td>\n",
              "      <td>-8.989640e+18</td>\n",
              "      <td>NaN</td>\n",
              "      <td>0</td>\n",
              "      <td>False</td>\n",
              "      <td>False</td>\n",
              "      <td>NaN</td>\n",
              "      <td>30.0</td>\n",
              "      <td>1</td>\n",
              "      <td>0</td>\n",
              "      <td>NaN</td>\n",
              "      <td>NaN</td>\n",
              "      <td>False</td>\n",
              "    </tr>\n",
              "  </tbody>\n",
              "</table>\n",
              "</div>"
            ],
            "text/plain": [
              "                 id state  postal_code  ... user_age  card_type  target\n",
              "16    -8.015960e+17    IA        52246  ...      NaN      debit   False\n",
              "1790  -6.234530e+18    CA        91354  ...      NaN        NaN   False\n",
              "5559  -7.819600e+18    MI        49009  ...      NaN      debit   False\n",
              "6062   2.383860e+18    NV        89122  ...      NaN      debit   False\n",
              "8437   4.784160e+18    OH        43110  ...      NaN      debit   False\n",
              "8605   8.910550e+18    OH        43209  ...      NaN      debit   False\n",
              "8894   2.463720e+18    PA        19380  ...      NaN      debit   False\n",
              "10209  5.736360e+18    TX        77380  ...      NaN        NaN   False\n",
              "\n",
              "[8 rows x 16 columns]"
            ]
          },
          "metadata": {},
          "execution_count": 7
        }
      ]
    },
    {
      "cell_type": "markdown",
      "metadata": {
        "id": "2lS1IY55LQDh"
      },
      "source": [
        "# Clean the dataframe"
      ]
    },
    {
      "cell_type": "code",
      "metadata": {
        "id": "n_SVKUeWH0hc"
      },
      "source": [
        "# Remove high_risk_dog because all values are 0\n",
        "# Remove square_ft because only 279 rows have values\n",
        "df.drop(columns=['high_risk_dog', 'square_ft'], inplace=True)"
      ],
      "execution_count": 8,
      "outputs": []
    },
    {
      "cell_type": "code",
      "metadata": {
        "id": "gSpiFE9CPqZF"
      },
      "source": [
        "# Change booleans to 0 and 1\n",
        "has_fire_alarm_remap_dict = {True: 1, False: 0}\n",
        "df.replace({'has_fire_alarm': has_fire_alarm_remap_dict}, inplace=True)\n",
        "\n",
        "has_burglar_alarm_remap_dict = {True: 1, False: 0}\n",
        "df.replace({'has_burglar_alarm': has_burglar_alarm_remap_dict}, inplace=True)"
      ],
      "execution_count": 9,
      "outputs": []
    },
    {
      "cell_type": "code",
      "metadata": {
        "id": "NDr1NQW8Rzn3"
      },
      "source": [
        "# Change nulls to 0\n",
        "# We don't remove the rows because some of them have target = True.\n",
        "df.portable_electronics.fillna(0, inplace=True)\n",
        "\n",
        "# Change nulls to 100 and use bins to change 1,2,3,4,5 to 5\n",
        "df['coast'] = df['coast'].mask((df['coast'] >= 0) & (df['coast'] < 5), 5)\n",
        "df.coast.fillna(100, inplace=True)\n",
        "\n",
        "# Change float to int\n",
        "df.portable_electronics = df.portable_electronics.astype('int')"
      ],
      "execution_count": 10,
      "outputs": []
    },
    {
      "cell_type": "code",
      "metadata": {
        "colab": {
          "base_uri": "https://localhost:8080/"
        },
        "id": "s_bjn-aJS8kX",
        "outputId": "e5bbc6e2-6236-453d-bd21-ec343265d88d"
      },
      "source": [
        "# Analyze postal_code\n",
        "df.postal_code.value_counts()"
      ],
      "execution_count": 11,
      "outputs": [
        {
          "output_type": "execute_result",
          "data": {
            "text/plain": [
              "10016    95\n",
              "10009    76\n",
              "78741    76\n",
              "94103    67\n",
              "94107    66\n",
              "         ..\n",
              "8360      1\n",
              "49332     1\n",
              "75961     1\n",
              "45242     1\n",
              "79911     1\n",
              "Name: postal_code, Length: 2565, dtype: int64"
            ]
          },
          "metadata": {},
          "execution_count": 11
        }
      ]
    },
    {
      "cell_type": "code",
      "metadata": {
        "colab": {
          "base_uri": "https://localhost:8080/"
        },
        "id": "Avnz5a1IcJzM",
        "outputId": "367e6e01-cd98-490c-9563-cf37e1d27225"
      },
      "source": [
        "df[df.postal_code==10016].state.value_counts()"
      ],
      "execution_count": 12,
      "outputs": [
        {
          "output_type": "execute_result",
          "data": {
            "text/plain": [
              "NY    95\n",
              "Name: state, dtype: int64"
            ]
          },
          "metadata": {},
          "execution_count": 12
        }
      ]
    },
    {
      "cell_type": "code",
      "metadata": {
        "id": "MLjQB9gfk-zg"
      },
      "source": [
        "# Remove State - it's basically the postal code\n",
        "df.drop(columns=['state'], inplace=True)\n",
        "# Remove id and user_id because they mean nothing in the context of X\n",
        "df.drop(columns=['id', 'user_id'], inplace=True)"
      ],
      "execution_count": 13,
      "outputs": []
    },
    {
      "cell_type": "code",
      "metadata": {
        "colab": {
          "base_uri": "https://localhost:8080/"
        },
        "id": "loAlzB80qDlJ",
        "outputId": "9e382945-e31a-42ff-9e6a-44a79d2fc17b"
      },
      "source": [
        "# Analyze values in fire_house_proximity\n",
        "df.fire_housing_proximity.value_counts(dropna=False)"
      ],
      "execution_count": 14,
      "outputs": [
        {
          "output_type": "execute_result",
          "data": {
            "text/plain": [
              "1     6391\n",
              "2     3574\n",
              "3     1616\n",
              "4      595\n",
              "5      171\n",
              "6       27\n",
              "7        6\n",
              "7X       3\n",
              "5X       3\n",
              "8B       3\n",
              "5Y       2\n",
              "4Y       2\n",
              "8        2\n",
              "4X       1\n",
              "6Y       1\n",
              "Name: fire_housing_proximity, dtype: int64"
            ]
          },
          "metadata": {},
          "execution_count": 14
        }
      ]
    },
    {
      "cell_type": "code",
      "metadata": {
        "id": "_P__zB8oq_H4"
      },
      "source": [
        "# Remove rows with bad fire_house_proximity\n",
        "weird_fire_rows = df.fire_housing_proximity.isin(['8B', '7X', '5X', '5Y', '4Y', '6Y', '4X'])\n",
        "df.drop(df[weird_fire_rows].index, inplace=True)\n",
        "\n",
        "# Change float to int\n",
        "df.fire_housing_proximity = df.fire_housing_proximity.astype('int')"
      ],
      "execution_count": 15,
      "outputs": []
    },
    {
      "cell_type": "code",
      "metadata": {
        "colab": {
          "base_uri": "https://localhost:8080/",
          "height": 195
        },
        "id": "8xrKJXZqsErF",
        "outputId": "d73c790a-6abf-4159-998f-b1542d3d67fc"
      },
      "source": [
        "# check policies with no user_age with true Y\n",
        "df[(df.user_age.isna()) & (df.target==True)]"
      ],
      "execution_count": 16,
      "outputs": [
        {
          "output_type": "execute_result",
          "data": {
            "text/html": [
              "<div>\n",
              "<style scoped>\n",
              "    .dataframe tbody tr th:only-of-type {\n",
              "        vertical-align: middle;\n",
              "    }\n",
              "\n",
              "    .dataframe tbody tr th {\n",
              "        vertical-align: top;\n",
              "    }\n",
              "\n",
              "    .dataframe thead th {\n",
              "        text-align: right;\n",
              "    }\n",
              "</style>\n",
              "<table border=\"1\" class=\"dataframe\">\n",
              "  <thead>\n",
              "    <tr style=\"text-align: right;\">\n",
              "      <th></th>\n",
              "      <th>postal_code</th>\n",
              "      <th>product</th>\n",
              "      <th>has_fire_alarm</th>\n",
              "      <th>has_burglar_alarm</th>\n",
              "      <th>portable_electronics</th>\n",
              "      <th>coast</th>\n",
              "      <th>fire_housing_proximity</th>\n",
              "      <th>previous_policies</th>\n",
              "      <th>user_age</th>\n",
              "      <th>card_type</th>\n",
              "      <th>target</th>\n",
              "    </tr>\n",
              "  </thead>\n",
              "  <tbody>\n",
              "    <tr>\n",
              "      <th>664</th>\n",
              "      <td>90046</td>\n",
              "      <td>ho4</td>\n",
              "      <td>0</td>\n",
              "      <td>0</td>\n",
              "      <td>0</td>\n",
              "      <td>10.0</td>\n",
              "      <td>1</td>\n",
              "      <td>0</td>\n",
              "      <td>NaN</td>\n",
              "      <td>debit</td>\n",
              "      <td>True</td>\n",
              "    </tr>\n",
              "    <tr>\n",
              "      <th>2124</th>\n",
              "      <td>94124</td>\n",
              "      <td>ho4</td>\n",
              "      <td>1</td>\n",
              "      <td>0</td>\n",
              "      <td>0</td>\n",
              "      <td>5.0</td>\n",
              "      <td>1</td>\n",
              "      <td>1</td>\n",
              "      <td>NaN</td>\n",
              "      <td>credit</td>\n",
              "      <td>True</td>\n",
              "    </tr>\n",
              "    <tr>\n",
              "      <th>3285</th>\n",
              "      <td>95677</td>\n",
              "      <td>ho4</td>\n",
              "      <td>0</td>\n",
              "      <td>0</td>\n",
              "      <td>0</td>\n",
              "      <td>30.0</td>\n",
              "      <td>2</td>\n",
              "      <td>0</td>\n",
              "      <td>NaN</td>\n",
              "      <td>debit</td>\n",
              "      <td>True</td>\n",
              "    </tr>\n",
              "    <tr>\n",
              "      <th>3441</th>\n",
              "      <td>90247</td>\n",
              "      <td>ho4</td>\n",
              "      <td>0</td>\n",
              "      <td>0</td>\n",
              "      <td>0</td>\n",
              "      <td>10.0</td>\n",
              "      <td>3</td>\n",
              "      <td>0</td>\n",
              "      <td>NaN</td>\n",
              "      <td>debit</td>\n",
              "      <td>True</td>\n",
              "    </tr>\n",
              "  </tbody>\n",
              "</table>\n",
              "</div>"
            ],
            "text/plain": [
              "      postal_code product  has_fire_alarm  ...  user_age  card_type  target\n",
              "664         90046     ho4               0  ...       NaN      debit    True\n",
              "2124        94124     ho4               1  ...       NaN     credit    True\n",
              "3285        95677     ho4               0  ...       NaN      debit    True\n",
              "3441        90247     ho4               0  ...       NaN      debit    True\n",
              "\n",
              "[4 rows x 11 columns]"
            ]
          },
          "metadata": {},
          "execution_count": 16
        }
      ]
    },
    {
      "cell_type": "code",
      "metadata": {
        "id": "XJHyM72usmz6"
      },
      "source": [
        "# fill NaN with the average user_age (very little rows so we're not worried about \"inserting X into Y\")\n",
        "df.user_age.fillna(df.user_age.mean(), inplace=True)"
      ],
      "execution_count": 17,
      "outputs": []
    },
    {
      "cell_type": "code",
      "metadata": {
        "id": "o9eWenD0tqbA"
      },
      "source": [
        "# Remove rows with Nan card_type\n",
        "card_type_null_rows = df.card_type.isna()\n",
        "df.drop(df[card_type_null_rows].index, inplace=True)"
      ],
      "execution_count": 18,
      "outputs": []
    },
    {
      "cell_type": "code",
      "metadata": {
        "id": "63qkw_afIiVH"
      },
      "source": [
        "# Rename column \"Product\"\n",
        "df.rename(columns={'product':'policy_type'}, inplace=True)"
      ],
      "execution_count": 19,
      "outputs": []
    },
    {
      "cell_type": "code",
      "metadata": {
        "colab": {
          "base_uri": "https://localhost:8080/"
        },
        "id": "q9UGtXvH9llR",
        "outputId": "38538744-2592-4cc0-bb81-829d9831d09d"
      },
      "source": [
        "df.info()"
      ],
      "execution_count": 20,
      "outputs": [
        {
          "output_type": "stream",
          "name": "stdout",
          "text": [
            "<class 'pandas.core.frame.DataFrame'>\n",
            "Int64Index: 12331 entries, 0 to 12396\n",
            "Data columns (total 11 columns):\n",
            " #   Column                  Non-Null Count  Dtype  \n",
            "---  ------                  --------------  -----  \n",
            " 0   postal_code             12331 non-null  int64  \n",
            " 1   policy_type             12331 non-null  object \n",
            " 2   has_fire_alarm          12331 non-null  int64  \n",
            " 3   has_burglar_alarm       12331 non-null  int64  \n",
            " 4   portable_electronics    12331 non-null  int64  \n",
            " 5   coast                   12331 non-null  float64\n",
            " 6   fire_housing_proximity  12331 non-null  int64  \n",
            " 7   previous_policies       12331 non-null  int64  \n",
            " 8   user_age                12331 non-null  float64\n",
            " 9   card_type               12331 non-null  object \n",
            " 10  target                  12331 non-null  bool   \n",
            "dtypes: bool(1), float64(2), int64(6), object(2)\n",
            "memory usage: 1.0+ MB\n"
          ]
        }
      ]
    },
    {
      "cell_type": "code",
      "metadata": {
        "colab": {
          "base_uri": "https://localhost:8080/",
          "height": 414
        },
        "id": "lSS0kdIy9nPk",
        "outputId": "b6e6598c-5ca2-4ce2-a869-731dd5d260ff"
      },
      "source": [
        "df.describe(include='all')"
      ],
      "execution_count": 21,
      "outputs": [
        {
          "output_type": "execute_result",
          "data": {
            "text/html": [
              "<div>\n",
              "<style scoped>\n",
              "    .dataframe tbody tr th:only-of-type {\n",
              "        vertical-align: middle;\n",
              "    }\n",
              "\n",
              "    .dataframe tbody tr th {\n",
              "        vertical-align: top;\n",
              "    }\n",
              "\n",
              "    .dataframe thead th {\n",
              "        text-align: right;\n",
              "    }\n",
              "</style>\n",
              "<table border=\"1\" class=\"dataframe\">\n",
              "  <thead>\n",
              "    <tr style=\"text-align: right;\">\n",
              "      <th></th>\n",
              "      <th>postal_code</th>\n",
              "      <th>policy_type</th>\n",
              "      <th>has_fire_alarm</th>\n",
              "      <th>has_burglar_alarm</th>\n",
              "      <th>portable_electronics</th>\n",
              "      <th>coast</th>\n",
              "      <th>fire_housing_proximity</th>\n",
              "      <th>previous_policies</th>\n",
              "      <th>user_age</th>\n",
              "      <th>card_type</th>\n",
              "      <th>target</th>\n",
              "    </tr>\n",
              "  </thead>\n",
              "  <tbody>\n",
              "    <tr>\n",
              "      <th>count</th>\n",
              "      <td>12331.000000</td>\n",
              "      <td>12331</td>\n",
              "      <td>12331.000000</td>\n",
              "      <td>12331.000000</td>\n",
              "      <td>12331.000000</td>\n",
              "      <td>12331.000000</td>\n",
              "      <td>12331.000000</td>\n",
              "      <td>12331.000000</td>\n",
              "      <td>12331.000000</td>\n",
              "      <td>12331</td>\n",
              "      <td>12331</td>\n",
              "    </tr>\n",
              "    <tr>\n",
              "      <th>unique</th>\n",
              "      <td>NaN</td>\n",
              "      <td>3</td>\n",
              "      <td>NaN</td>\n",
              "      <td>NaN</td>\n",
              "      <td>NaN</td>\n",
              "      <td>NaN</td>\n",
              "      <td>NaN</td>\n",
              "      <td>NaN</td>\n",
              "      <td>NaN</td>\n",
              "      <td>3</td>\n",
              "      <td>2</td>\n",
              "    </tr>\n",
              "    <tr>\n",
              "      <th>top</th>\n",
              "      <td>NaN</td>\n",
              "      <td>ho4</td>\n",
              "      <td>NaN</td>\n",
              "      <td>NaN</td>\n",
              "      <td>NaN</td>\n",
              "      <td>NaN</td>\n",
              "      <td>NaN</td>\n",
              "      <td>NaN</td>\n",
              "      <td>NaN</td>\n",
              "      <td>debit</td>\n",
              "      <td>False</td>\n",
              "    </tr>\n",
              "    <tr>\n",
              "      <th>freq</th>\n",
              "      <td>NaN</td>\n",
              "      <td>12068</td>\n",
              "      <td>NaN</td>\n",
              "      <td>NaN</td>\n",
              "      <td>NaN</td>\n",
              "      <td>NaN</td>\n",
              "      <td>NaN</td>\n",
              "      <td>NaN</td>\n",
              "      <td>NaN</td>\n",
              "      <td>7120</td>\n",
              "      <td>12051</td>\n",
              "    </tr>\n",
              "    <tr>\n",
              "      <th>mean</th>\n",
              "      <td>62658.867732</td>\n",
              "      <td>NaN</td>\n",
              "      <td>0.758170</td>\n",
              "      <td>0.134701</td>\n",
              "      <td>0.325602</td>\n",
              "      <td>26.188063</td>\n",
              "      <td>1.763604</td>\n",
              "      <td>0.237207</td>\n",
              "      <td>31.081517</td>\n",
              "      <td>NaN</td>\n",
              "      <td>NaN</td>\n",
              "    </tr>\n",
              "    <tr>\n",
              "      <th>std</th>\n",
              "      <td>32525.221125</td>\n",
              "      <td>NaN</td>\n",
              "      <td>0.428209</td>\n",
              "      <td>0.341418</td>\n",
              "      <td>0.468618</td>\n",
              "      <td>25.973964</td>\n",
              "      <td>0.979593</td>\n",
              "      <td>0.525364</td>\n",
              "      <td>9.962829</td>\n",
              "      <td>NaN</td>\n",
              "      <td>NaN</td>\n",
              "    </tr>\n",
              "    <tr>\n",
              "      <th>min</th>\n",
              "      <td>2840.000000</td>\n",
              "      <td>NaN</td>\n",
              "      <td>0.000000</td>\n",
              "      <td>0.000000</td>\n",
              "      <td>0.000000</td>\n",
              "      <td>5.000000</td>\n",
              "      <td>1.000000</td>\n",
              "      <td>0.000000</td>\n",
              "      <td>17.000000</td>\n",
              "      <td>NaN</td>\n",
              "      <td>NaN</td>\n",
              "    </tr>\n",
              "    <tr>\n",
              "      <th>25%</th>\n",
              "      <td>30093.000000</td>\n",
              "      <td>NaN</td>\n",
              "      <td>1.000000</td>\n",
              "      <td>0.000000</td>\n",
              "      <td>0.000000</td>\n",
              "      <td>5.000000</td>\n",
              "      <td>1.000000</td>\n",
              "      <td>0.000000</td>\n",
              "      <td>24.000000</td>\n",
              "      <td>NaN</td>\n",
              "      <td>NaN</td>\n",
              "    </tr>\n",
              "    <tr>\n",
              "      <th>50%</th>\n",
              "      <td>77007.000000</td>\n",
              "      <td>NaN</td>\n",
              "      <td>1.000000</td>\n",
              "      <td>0.000000</td>\n",
              "      <td>0.000000</td>\n",
              "      <td>25.000000</td>\n",
              "      <td>1.000000</td>\n",
              "      <td>0.000000</td>\n",
              "      <td>29.000000</td>\n",
              "      <td>NaN</td>\n",
              "      <td>NaN</td>\n",
              "    </tr>\n",
              "    <tr>\n",
              "      <th>75%</th>\n",
              "      <td>91385.500000</td>\n",
              "      <td>NaN</td>\n",
              "      <td>1.000000</td>\n",
              "      <td>0.000000</td>\n",
              "      <td>1.000000</td>\n",
              "      <td>30.000000</td>\n",
              "      <td>2.000000</td>\n",
              "      <td>0.000000</td>\n",
              "      <td>35.000000</td>\n",
              "      <td>NaN</td>\n",
              "      <td>NaN</td>\n",
              "    </tr>\n",
              "    <tr>\n",
              "      <th>max</th>\n",
              "      <td>97702.000000</td>\n",
              "      <td>NaN</td>\n",
              "      <td>1.000000</td>\n",
              "      <td>1.000000</td>\n",
              "      <td>1.000000</td>\n",
              "      <td>100.000000</td>\n",
              "      <td>8.000000</td>\n",
              "      <td>7.000000</td>\n",
              "      <td>112.000000</td>\n",
              "      <td>NaN</td>\n",
              "      <td>NaN</td>\n",
              "    </tr>\n",
              "  </tbody>\n",
              "</table>\n",
              "</div>"
            ],
            "text/plain": [
              "         postal_code policy_type  has_fire_alarm  ...      user_age  card_type  target\n",
              "count   12331.000000       12331    12331.000000  ...  12331.000000      12331   12331\n",
              "unique           NaN           3             NaN  ...           NaN          3       2\n",
              "top              NaN         ho4             NaN  ...           NaN      debit   False\n",
              "freq             NaN       12068             NaN  ...           NaN       7120   12051\n",
              "mean    62658.867732         NaN        0.758170  ...     31.081517        NaN     NaN\n",
              "std     32525.221125         NaN        0.428209  ...      9.962829        NaN     NaN\n",
              "min      2840.000000         NaN        0.000000  ...     17.000000        NaN     NaN\n",
              "25%     30093.000000         NaN        1.000000  ...     24.000000        NaN     NaN\n",
              "50%     77007.000000         NaN        1.000000  ...     29.000000        NaN     NaN\n",
              "75%     91385.500000         NaN        1.000000  ...     35.000000        NaN     NaN\n",
              "max     97702.000000         NaN        1.000000  ...    112.000000        NaN     NaN\n",
              "\n",
              "[11 rows x 11 columns]"
            ]
          },
          "metadata": {},
          "execution_count": 21
        }
      ]
    },
    {
      "cell_type": "code",
      "metadata": {
        "id": "4oE9IkMsE9z2"
      },
      "source": [
        "# Use get_dummies() to take care of two columns with small number of values\n",
        "df = pd.get_dummies(df, columns=['policy_type', 'card_type'])"
      ],
      "execution_count": 22,
      "outputs": []
    },
    {
      "cell_type": "code",
      "metadata": {
        "id": "sJDRgEiDQ9UN"
      },
      "source": [
        "# target_weight = np.where(df['target']==True, true_weight, 1)"
      ],
      "execution_count": 23,
      "outputs": []
    },
    {
      "cell_type": "code",
      "metadata": {
        "colab": {
          "base_uri": "https://localhost:8080/",
          "height": 444
        },
        "id": "4ZEFZgnTFzX8",
        "outputId": "db6cf14d-591d-40ad-bbdb-256a30d8da49"
      },
      "source": [
        "df"
      ],
      "execution_count": 24,
      "outputs": [
        {
          "output_type": "execute_result",
          "data": {
            "text/html": [
              "<div>\n",
              "<style scoped>\n",
              "    .dataframe tbody tr th:only-of-type {\n",
              "        vertical-align: middle;\n",
              "    }\n",
              "\n",
              "    .dataframe tbody tr th {\n",
              "        vertical-align: top;\n",
              "    }\n",
              "\n",
              "    .dataframe thead th {\n",
              "        text-align: right;\n",
              "    }\n",
              "</style>\n",
              "<table border=\"1\" class=\"dataframe\">\n",
              "  <thead>\n",
              "    <tr style=\"text-align: right;\">\n",
              "      <th></th>\n",
              "      <th>postal_code</th>\n",
              "      <th>has_fire_alarm</th>\n",
              "      <th>has_burglar_alarm</th>\n",
              "      <th>portable_electronics</th>\n",
              "      <th>coast</th>\n",
              "      <th>fire_housing_proximity</th>\n",
              "      <th>previous_policies</th>\n",
              "      <th>user_age</th>\n",
              "      <th>target</th>\n",
              "      <th>policy_type_ho3</th>\n",
              "      <th>policy_type_ho4</th>\n",
              "      <th>policy_type_ho6</th>\n",
              "      <th>card_type_credit</th>\n",
              "      <th>card_type_debit</th>\n",
              "      <th>card_type_prepaid</th>\n",
              "    </tr>\n",
              "  </thead>\n",
              "  <tbody>\n",
              "    <tr>\n",
              "      <th>0</th>\n",
              "      <td>87043</td>\n",
              "      <td>1</td>\n",
              "      <td>1</td>\n",
              "      <td>0</td>\n",
              "      <td>100.0</td>\n",
              "      <td>5</td>\n",
              "      <td>0</td>\n",
              "      <td>39.0</td>\n",
              "      <td>False</td>\n",
              "      <td>0</td>\n",
              "      <td>1</td>\n",
              "      <td>0</td>\n",
              "      <td>1</td>\n",
              "      <td>0</td>\n",
              "      <td>0</td>\n",
              "    </tr>\n",
              "    <tr>\n",
              "      <th>1</th>\n",
              "      <td>53715</td>\n",
              "      <td>1</td>\n",
              "      <td>0</td>\n",
              "      <td>1</td>\n",
              "      <td>30.0</td>\n",
              "      <td>1</td>\n",
              "      <td>0</td>\n",
              "      <td>19.0</td>\n",
              "      <td>False</td>\n",
              "      <td>0</td>\n",
              "      <td>1</td>\n",
              "      <td>0</td>\n",
              "      <td>0</td>\n",
              "      <td>1</td>\n",
              "      <td>0</td>\n",
              "    </tr>\n",
              "    <tr>\n",
              "      <th>2</th>\n",
              "      <td>53211</td>\n",
              "      <td>1</td>\n",
              "      <td>0</td>\n",
              "      <td>1</td>\n",
              "      <td>5.0</td>\n",
              "      <td>1</td>\n",
              "      <td>0</td>\n",
              "      <td>20.0</td>\n",
              "      <td>True</td>\n",
              "      <td>0</td>\n",
              "      <td>1</td>\n",
              "      <td>0</td>\n",
              "      <td>0</td>\n",
              "      <td>1</td>\n",
              "      <td>0</td>\n",
              "    </tr>\n",
              "    <tr>\n",
              "      <th>3</th>\n",
              "      <td>88012</td>\n",
              "      <td>1</td>\n",
              "      <td>1</td>\n",
              "      <td>1</td>\n",
              "      <td>100.0</td>\n",
              "      <td>1</td>\n",
              "      <td>0</td>\n",
              "      <td>33.0</td>\n",
              "      <td>False</td>\n",
              "      <td>0</td>\n",
              "      <td>1</td>\n",
              "      <td>0</td>\n",
              "      <td>0</td>\n",
              "      <td>1</td>\n",
              "      <td>0</td>\n",
              "    </tr>\n",
              "    <tr>\n",
              "      <th>4</th>\n",
              "      <td>72116</td>\n",
              "      <td>0</td>\n",
              "      <td>0</td>\n",
              "      <td>1</td>\n",
              "      <td>100.0</td>\n",
              "      <td>1</td>\n",
              "      <td>0</td>\n",
              "      <td>20.0</td>\n",
              "      <td>False</td>\n",
              "      <td>0</td>\n",
              "      <td>1</td>\n",
              "      <td>0</td>\n",
              "      <td>0</td>\n",
              "      <td>1</td>\n",
              "      <td>0</td>\n",
              "    </tr>\n",
              "    <tr>\n",
              "      <th>...</th>\n",
              "      <td>...</td>\n",
              "      <td>...</td>\n",
              "      <td>...</td>\n",
              "      <td>...</td>\n",
              "      <td>...</td>\n",
              "      <td>...</td>\n",
              "      <td>...</td>\n",
              "      <td>...</td>\n",
              "      <td>...</td>\n",
              "      <td>...</td>\n",
              "      <td>...</td>\n",
              "      <td>...</td>\n",
              "      <td>...</td>\n",
              "      <td>...</td>\n",
              "      <td>...</td>\n",
              "    </tr>\n",
              "    <tr>\n",
              "      <th>12392</th>\n",
              "      <td>78754</td>\n",
              "      <td>0</td>\n",
              "      <td>0</td>\n",
              "      <td>0</td>\n",
              "      <td>30.0</td>\n",
              "      <td>1</td>\n",
              "      <td>1</td>\n",
              "      <td>52.0</td>\n",
              "      <td>False</td>\n",
              "      <td>0</td>\n",
              "      <td>1</td>\n",
              "      <td>0</td>\n",
              "      <td>0</td>\n",
              "      <td>1</td>\n",
              "      <td>0</td>\n",
              "    </tr>\n",
              "    <tr>\n",
              "      <th>12393</th>\n",
              "      <td>75215</td>\n",
              "      <td>1</td>\n",
              "      <td>1</td>\n",
              "      <td>1</td>\n",
              "      <td>30.0</td>\n",
              "      <td>2</td>\n",
              "      <td>0</td>\n",
              "      <td>46.0</td>\n",
              "      <td>True</td>\n",
              "      <td>0</td>\n",
              "      <td>1</td>\n",
              "      <td>0</td>\n",
              "      <td>0</td>\n",
              "      <td>1</td>\n",
              "      <td>0</td>\n",
              "    </tr>\n",
              "    <tr>\n",
              "      <th>12394</th>\n",
              "      <td>77087</td>\n",
              "      <td>0</td>\n",
              "      <td>1</td>\n",
              "      <td>1</td>\n",
              "      <td>20.0</td>\n",
              "      <td>1</td>\n",
              "      <td>0</td>\n",
              "      <td>24.0</td>\n",
              "      <td>False</td>\n",
              "      <td>0</td>\n",
              "      <td>1</td>\n",
              "      <td>0</td>\n",
              "      <td>1</td>\n",
              "      <td>0</td>\n",
              "      <td>0</td>\n",
              "    </tr>\n",
              "    <tr>\n",
              "      <th>12395</th>\n",
              "      <td>78704</td>\n",
              "      <td>1</td>\n",
              "      <td>0</td>\n",
              "      <td>1</td>\n",
              "      <td>30.0</td>\n",
              "      <td>1</td>\n",
              "      <td>0</td>\n",
              "      <td>36.0</td>\n",
              "      <td>False</td>\n",
              "      <td>0</td>\n",
              "      <td>1</td>\n",
              "      <td>0</td>\n",
              "      <td>0</td>\n",
              "      <td>1</td>\n",
              "      <td>0</td>\n",
              "    </tr>\n",
              "    <tr>\n",
              "      <th>12396</th>\n",
              "      <td>76132</td>\n",
              "      <td>1</td>\n",
              "      <td>0</td>\n",
              "      <td>1</td>\n",
              "      <td>30.0</td>\n",
              "      <td>1</td>\n",
              "      <td>0</td>\n",
              "      <td>28.0</td>\n",
              "      <td>False</td>\n",
              "      <td>0</td>\n",
              "      <td>1</td>\n",
              "      <td>0</td>\n",
              "      <td>1</td>\n",
              "      <td>0</td>\n",
              "      <td>0</td>\n",
              "    </tr>\n",
              "  </tbody>\n",
              "</table>\n",
              "<p>12331 rows × 15 columns</p>\n",
              "</div>"
            ],
            "text/plain": [
              "       postal_code  has_fire_alarm  ...  card_type_debit  card_type_prepaid\n",
              "0            87043               1  ...                0                  0\n",
              "1            53715               1  ...                1                  0\n",
              "2            53211               1  ...                1                  0\n",
              "3            88012               1  ...                1                  0\n",
              "4            72116               0  ...                1                  0\n",
              "...            ...             ...  ...              ...                ...\n",
              "12392        78754               0  ...                1                  0\n",
              "12393        75215               1  ...                1                  0\n",
              "12394        77087               0  ...                0                  0\n",
              "12395        78704               1  ...                1                  0\n",
              "12396        76132               1  ...                0                  0\n",
              "\n",
              "[12331 rows x 15 columns]"
            ]
          },
          "metadata": {},
          "execution_count": 24
        }
      ]
    },
    {
      "cell_type": "code",
      "metadata": {
        "id": "iQkAQhJK73_Q"
      },
      "source": [
        "row_e, col_e = df.shape"
      ],
      "execution_count": 25,
      "outputs": []
    },
    {
      "cell_type": "code",
      "metadata": {
        "colab": {
          "base_uri": "https://localhost:8080/"
        },
        "id": "LFx_d23Y8lQS",
        "outputId": "25971f3f-487f-4af7-f181-0b30905b4882"
      },
      "source": [
        "deleted_rows = row_s - row_e\n",
        "\n",
        "print(f'We deleted {deleted_rows} rows')"
      ],
      "execution_count": 26,
      "outputs": [
        {
          "output_type": "stream",
          "name": "stdout",
          "text": [
            "We deleted 66 rows\n"
          ]
        }
      ]
    },
    {
      "cell_type": "markdown",
      "metadata": {
        "id": "jrpY1S20BGgN"
      },
      "source": [
        "--------------------------------------------------------------------\n",
        "\n",
        "Chosen metrics: f1"
      ]
    },
    {
      "cell_type": "markdown",
      "metadata": {
        "id": "SHpRqeVnHBQ2"
      },
      "source": [
        "Chosen models: Random Forest + Logistic regression"
      ]
    },
    {
      "cell_type": "code",
      "metadata": {
        "id": "wrkcoJ5YbK4s"
      },
      "source": [
        "# doc\n",
        "note = pd.DataFrame(columns=['Model', 'F1'])"
      ],
      "execution_count": 27,
      "outputs": []
    },
    {
      "cell_type": "markdown",
      "metadata": {
        "id": "6A6ffVUtXfDL"
      },
      "source": [
        "# Pipeline"
      ]
    },
    {
      "cell_type": "code",
      "metadata": {
        "id": "6dPsGaJnXh8A"
      },
      "source": [
        "# pipeline - creating\n",
        "\n",
        "def pipi(df, model, **config):\n",
        "  X = df.drop(columns=['target'])\n",
        "  y = df.target\n",
        "  X_train, X_test, y_train, y_test = train_test_split(X, y, test_size=0.3, random_state=12345)\n",
        "\n",
        "  clf = model(**config)\n",
        "\n",
        "  step = [('model', clf)]\n",
        "\n",
        "  pip = Pipeline(step)\n",
        "  pip.fit(X_train, y_train)\n",
        "  y_pred = pip.predict(X_test)\n",
        "  \n",
        "  f1 = f1_score(y_true=y_test, y_pred=y_pred)\n",
        "\n",
        "  return {'Model': model.__name__, 'F1': f1}\n"
      ],
      "execution_count": 28,
      "outputs": []
    },
    {
      "cell_type": "markdown",
      "metadata": {
        "id": "3svhC3Eys3TG"
      },
      "source": [
        "## Pipeline Run"
      ]
    },
    {
      "cell_type": "code",
      "metadata": {
        "colab": {
          "base_uri": "https://localhost:8080/",
          "height": 112
        },
        "id": "sLNVgivRs2yO",
        "outputId": "ea8a658a-70c7-42d0-b4d1-1b721167d3fb"
      },
      "source": [
        "# pipeline - first run\n",
        "\n",
        "best_MSS = 170 # Calculate later\n",
        "config = {'n_estimators': 200, 'bootstrap': False, 'class_weight': 'balanced', 'min_samples_split': best_MSS}\n",
        "result = pipi(df, RandomForestClassifier, **config)\n",
        "\n",
        "note = note.append(result, ignore_index=True)\n",
        "\n",
        "best_C = 1.0000000000000002e-06 # Calculate later\n",
        "config = {'class_weight': 'balanced', 'C': best_C}\n",
        "result = pipi(df, LogisticRegression, **config)\n",
        "\n",
        "note = note.append(result, ignore_index=True)\n",
        "note"
      ],
      "execution_count": 29,
      "outputs": [
        {
          "output_type": "execute_result",
          "data": {
            "text/html": [
              "<div>\n",
              "<style scoped>\n",
              "    .dataframe tbody tr th:only-of-type {\n",
              "        vertical-align: middle;\n",
              "    }\n",
              "\n",
              "    .dataframe tbody tr th {\n",
              "        vertical-align: top;\n",
              "    }\n",
              "\n",
              "    .dataframe thead th {\n",
              "        text-align: right;\n",
              "    }\n",
              "</style>\n",
              "<table border=\"1\" class=\"dataframe\">\n",
              "  <thead>\n",
              "    <tr style=\"text-align: right;\">\n",
              "      <th></th>\n",
              "      <th>Model</th>\n",
              "      <th>F1</th>\n",
              "    </tr>\n",
              "  </thead>\n",
              "  <tbody>\n",
              "    <tr>\n",
              "      <th>0</th>\n",
              "      <td>RandomForestClassifier</td>\n",
              "      <td>0.052925</td>\n",
              "    </tr>\n",
              "    <tr>\n",
              "      <th>1</th>\n",
              "      <td>LogisticRegression</td>\n",
              "      <td>0.048849</td>\n",
              "    </tr>\n",
              "  </tbody>\n",
              "</table>\n",
              "</div>"
            ],
            "text/plain": [
              "                    Model        F1\n",
              "0  RandomForestClassifier  0.052925\n",
              "1      LogisticRegression  0.048849"
            ]
          },
          "metadata": {},
          "execution_count": 29
        }
      ]
    },
    {
      "cell_type": "markdown",
      "metadata": {
        "id": "E7BbpAXVyL2E"
      },
      "source": [
        "# Split the Data"
      ]
    },
    {
      "cell_type": "code",
      "metadata": {
        "id": "-TTGBcOXyPlo"
      },
      "source": [
        "# Split\n",
        "\n",
        "X = df.drop(columns=['target'])\n",
        "y = df.target\n",
        "X_train, X_test, y_train, y_test = train_test_split(X, y, test_size=0.3, random_state=12345)"
      ],
      "execution_count": 30,
      "outputs": []
    },
    {
      "cell_type": "markdown",
      "metadata": {
        "id": "4-0kjTM3CNps"
      },
      "source": [
        "# Logistic **Regression**"
      ]
    },
    {
      "cell_type": "code",
      "metadata": {
        "id": "_kuKxaX8fYsH"
      },
      "source": [
        "# doc\n",
        "note = pd.DataFrame(columns=['Model', 'F1'])"
      ],
      "execution_count": 31,
      "outputs": []
    },
    {
      "cell_type": "markdown",
      "metadata": {
        "id": "dmAWvcVRT_Js"
      },
      "source": [
        "## First Run"
      ]
    },
    {
      "cell_type": "code",
      "metadata": {
        "colab": {
          "base_uri": "https://localhost:8080/",
          "height": 307
        },
        "id": "2h42AQNaCSQW",
        "outputId": "9e006c53-e7f6-4f98-f09f-c3153e8d40dc"
      },
      "source": [
        "# LR Classifier - First run\n",
        "\n",
        "clf = LogisticRegression()\n",
        "clf.fit(X_train, y_train)\n",
        "y_pred = clf.predict(X_test)\n",
        "\n",
        "f1 = f1_score(y_test, y_pred)\n",
        "print(classification_report(y_test, y_pred))\n",
        "\n",
        "note.loc[0] = ['LR Classifier - First Run', f1]\n",
        "note"
      ],
      "execution_count": 32,
      "outputs": [
        {
          "output_type": "stream",
          "name": "stdout",
          "text": [
            "              precision    recall  f1-score   support\n",
            "\n",
            "       False       0.98      1.00      0.99      3621\n",
            "        True       0.00      0.00      0.00        79\n",
            "\n",
            "    accuracy                           0.98      3700\n",
            "   macro avg       0.49      0.50      0.49      3700\n",
            "weighted avg       0.96      0.98      0.97      3700\n",
            "\n"
          ]
        },
        {
          "output_type": "stream",
          "name": "stderr",
          "text": [
            "/usr/local/lib/python3.7/dist-packages/sklearn/metrics/_classification.py:1272: UndefinedMetricWarning: Precision and F-score are ill-defined and being set to 0.0 in labels with no predicted samples. Use `zero_division` parameter to control this behavior.\n",
            "  _warn_prf(average, modifier, msg_start, len(result))\n"
          ]
        },
        {
          "output_type": "execute_result",
          "data": {
            "text/html": [
              "<div>\n",
              "<style scoped>\n",
              "    .dataframe tbody tr th:only-of-type {\n",
              "        vertical-align: middle;\n",
              "    }\n",
              "\n",
              "    .dataframe tbody tr th {\n",
              "        vertical-align: top;\n",
              "    }\n",
              "\n",
              "    .dataframe thead th {\n",
              "        text-align: right;\n",
              "    }\n",
              "</style>\n",
              "<table border=\"1\" class=\"dataframe\">\n",
              "  <thead>\n",
              "    <tr style=\"text-align: right;\">\n",
              "      <th></th>\n",
              "      <th>Model</th>\n",
              "      <th>F1</th>\n",
              "    </tr>\n",
              "  </thead>\n",
              "  <tbody>\n",
              "    <tr>\n",
              "      <th>0</th>\n",
              "      <td>LR Classifier - First Run</td>\n",
              "      <td>0.0</td>\n",
              "    </tr>\n",
              "  </tbody>\n",
              "</table>\n",
              "</div>"
            ],
            "text/plain": [
              "                       Model   F1\n",
              "0  LR Classifier - First Run  0.0"
            ]
          },
          "metadata": {},
          "execution_count": 32
        }
      ]
    },
    {
      "cell_type": "markdown",
      "metadata": {
        "id": "RyS76LLY2GWE"
      },
      "source": [
        "### Confusion Matrix "
      ]
    },
    {
      "cell_type": "code",
      "metadata": {
        "colab": {
          "base_uri": "https://localhost:8080/",
          "height": 112
        },
        "id": "IkbX_g8F2HrP",
        "outputId": "497fcd51-cdae-4a4b-b2ae-7d31eae16d90"
      },
      "source": [
        "# CM\n",
        "\n",
        "cm = confusion_matrix(y_test, y_pred, labels=[True, False])\n",
        "cm = pd.DataFrame(cm, index=[True, False], columns=[True, False])\n",
        "cm"
      ],
      "execution_count": 33,
      "outputs": [
        {
          "output_type": "execute_result",
          "data": {
            "text/html": [
              "<div>\n",
              "<style scoped>\n",
              "    .dataframe tbody tr th:only-of-type {\n",
              "        vertical-align: middle;\n",
              "    }\n",
              "\n",
              "    .dataframe tbody tr th {\n",
              "        vertical-align: top;\n",
              "    }\n",
              "\n",
              "    .dataframe thead th {\n",
              "        text-align: right;\n",
              "    }\n",
              "</style>\n",
              "<table border=\"1\" class=\"dataframe\">\n",
              "  <thead>\n",
              "    <tr style=\"text-align: right;\">\n",
              "      <th></th>\n",
              "      <th>True</th>\n",
              "      <th>False</th>\n",
              "    </tr>\n",
              "  </thead>\n",
              "  <tbody>\n",
              "    <tr>\n",
              "      <th>True</th>\n",
              "      <td>0</td>\n",
              "      <td>79</td>\n",
              "    </tr>\n",
              "    <tr>\n",
              "      <th>False</th>\n",
              "      <td>0</td>\n",
              "      <td>3621</td>\n",
              "    </tr>\n",
              "  </tbody>\n",
              "</table>\n",
              "</div>"
            ],
            "text/plain": [
              "       True   False\n",
              "True       0     79\n",
              "False      0   3621"
            ]
          },
          "metadata": {},
          "execution_count": 33
        }
      ]
    },
    {
      "cell_type": "markdown",
      "metadata": {
        "id": "7Y_VP6Q_Pm0y"
      },
      "source": [
        "## Grid search"
      ]
    },
    {
      "cell_type": "code",
      "metadata": {
        "id": "YGCaE0kuQ7ND"
      },
      "source": [
        "# Gridsearch - New my_param\n",
        "\n",
        "s = 0.01\n",
        "my_param = []\n",
        "for i in range(10):\n",
        "  my_param += [s]\n",
        "  s = s / 10"
      ],
      "execution_count": 34,
      "outputs": []
    },
    {
      "cell_type": "code",
      "metadata": {
        "colab": {
          "base_uri": "https://localhost:8080/"
        },
        "id": "u0E697mYDwkS",
        "outputId": "32e29504-cf80-49cb-d1aa-5039eab8e218"
      },
      "source": [
        "# Gridsearch - Deploy my_param_grid\n",
        "\n",
        "my_param_grid = [{'C': my_param}]\n",
        "my_param_grid"
      ],
      "execution_count": 35,
      "outputs": [
        {
          "output_type": "execute_result",
          "data": {
            "text/plain": [
              "[{'C': [0.01,\n",
              "   0.001,\n",
              "   0.0001,\n",
              "   1e-05,\n",
              "   1.0000000000000002e-06,\n",
              "   1.0000000000000002e-07,\n",
              "   1.0000000000000002e-08,\n",
              "   1.0000000000000003e-09,\n",
              "   1.0000000000000003e-10,\n",
              "   1.0000000000000003e-11]}]"
            ]
          },
          "metadata": {},
          "execution_count": 35
        }
      ]
    },
    {
      "cell_type": "code",
      "metadata": {
        "colab": {
          "base_uri": "https://localhost:8080/"
        },
        "id": "gXjsi5XIERpb",
        "outputId": "3c5d2113-66f7-4132-eb98-167abf034adb"
      },
      "source": [
        "# Grid search - In action - **CV = 5**\n",
        "\n",
        "clf = LogisticRegression(class_weight='balanced')\n",
        "clf_gs = GridSearchCV(clf, my_param_grid, cv=5, scoring='f1')\n",
        "\n",
        "clf_gs.fit(X_train, y_train)\n",
        "best_C = clf_gs.best_estimator_.C\n",
        "\n",
        "best_C"
      ],
      "execution_count": 36,
      "outputs": [
        {
          "output_type": "execute_result",
          "data": {
            "text/plain": [
              "1.0000000000000002e-06"
            ]
          },
          "metadata": {},
          "execution_count": 36
        }
      ]
    },
    {
      "cell_type": "code",
      "metadata": {
        "colab": {
          "base_uri": "https://localhost:8080/"
        },
        "id": "XWZ1UycwTIyE",
        "outputId": "af94eb5b-cfed-49d7-9549-71e2f091e9e8"
      },
      "source": [
        "# Grid Search - Checking measures \n",
        "print(classification_report(y_test, y_pred))"
      ],
      "execution_count": 37,
      "outputs": [
        {
          "output_type": "stream",
          "name": "stdout",
          "text": [
            "              precision    recall  f1-score   support\n",
            "\n",
            "       False       0.98      1.00      0.99      3621\n",
            "        True       0.00      0.00      0.00        79\n",
            "\n",
            "    accuracy                           0.98      3700\n",
            "   macro avg       0.49      0.50      0.49      3700\n",
            "weighted avg       0.96      0.98      0.97      3700\n",
            "\n"
          ]
        },
        {
          "output_type": "stream",
          "name": "stderr",
          "text": [
            "/usr/local/lib/python3.7/dist-packages/sklearn/metrics/_classification.py:1272: UndefinedMetricWarning: Precision and F-score are ill-defined and being set to 0.0 in labels with no predicted samples. Use `zero_division` parameter to control this behavior.\n",
            "  _warn_prf(average, modifier, msg_start, len(result))\n"
          ]
        }
      ]
    },
    {
      "cell_type": "markdown",
      "metadata": {
        "id": "erH8YF39USDQ"
      },
      "source": [
        "## Show off with the best Param"
      ]
    },
    {
      "cell_type": "code",
      "metadata": {
        "colab": {
          "base_uri": "https://localhost:8080/",
          "height": 281
        },
        "id": "LTp6gG-5UnTN",
        "outputId": "4789b786-24fc-49e9-c8e1-eaba07bc80a7"
      },
      "source": [
        "# Best Indicator\n",
        "\n",
        "best_C = clf_gs.best_estimator_.C\n",
        "best_clf = LogisticRegression(class_weight='balanced', C=best_C)\n",
        "\n",
        "best_clf.fit(X_train, y_train)\n",
        "y_pred = best_clf.predict(X_test)\n",
        "\n",
        "f1 = f1_score(y_test, y_pred)\n",
        "print(classification_report(y_test, y_pred))\n",
        "\n",
        "note.loc[1] = ['LR Classifier - Best Param', f1]\n",
        "note"
      ],
      "execution_count": 38,
      "outputs": [
        {
          "output_type": "stream",
          "name": "stdout",
          "text": [
            "              precision    recall  f1-score   support\n",
            "\n",
            "       False       0.98      0.64      0.77      3621\n",
            "        True       0.03      0.44      0.05        79\n",
            "\n",
            "    accuracy                           0.63      3700\n",
            "   macro avg       0.50      0.54      0.41      3700\n",
            "weighted avg       0.96      0.63      0.76      3700\n",
            "\n"
          ]
        },
        {
          "output_type": "execute_result",
          "data": {
            "text/html": [
              "<div>\n",
              "<style scoped>\n",
              "    .dataframe tbody tr th:only-of-type {\n",
              "        vertical-align: middle;\n",
              "    }\n",
              "\n",
              "    .dataframe tbody tr th {\n",
              "        vertical-align: top;\n",
              "    }\n",
              "\n",
              "    .dataframe thead th {\n",
              "        text-align: right;\n",
              "    }\n",
              "</style>\n",
              "<table border=\"1\" class=\"dataframe\">\n",
              "  <thead>\n",
              "    <tr style=\"text-align: right;\">\n",
              "      <th></th>\n",
              "      <th>Model</th>\n",
              "      <th>F1</th>\n",
              "    </tr>\n",
              "  </thead>\n",
              "  <tbody>\n",
              "    <tr>\n",
              "      <th>0</th>\n",
              "      <td>LR Classifier - First Run</td>\n",
              "      <td>0.000000</td>\n",
              "    </tr>\n",
              "    <tr>\n",
              "      <th>1</th>\n",
              "      <td>LR Classifier - Best Param</td>\n",
              "      <td>0.048849</td>\n",
              "    </tr>\n",
              "  </tbody>\n",
              "</table>\n",
              "</div>"
            ],
            "text/plain": [
              "                        Model        F1\n",
              "0   LR Classifier - First Run  0.000000\n",
              "1  LR Classifier - Best Param  0.048849"
            ]
          },
          "metadata": {},
          "execution_count": 38
        }
      ]
    },
    {
      "cell_type": "markdown",
      "metadata": {
        "id": "Gv8df_aC2ZOo"
      },
      "source": [
        "### Confusion Matrix"
      ]
    },
    {
      "cell_type": "code",
      "metadata": {
        "colab": {
          "base_uri": "https://localhost:8080/",
          "height": 112
        },
        "id": "Oy4fABGo2ZAS",
        "outputId": "68d49a5a-4b75-496e-ade9-c061b04bc98e"
      },
      "source": [
        "# CM\n",
        "\n",
        "cm = confusion_matrix(y_test, y_pred, labels=[True, False])\n",
        "cm = pd.DataFrame(cm, index=[True, False], columns=[True, False])\n",
        "cm"
      ],
      "execution_count": 39,
      "outputs": [
        {
          "output_type": "execute_result",
          "data": {
            "text/html": [
              "<div>\n",
              "<style scoped>\n",
              "    .dataframe tbody tr th:only-of-type {\n",
              "        vertical-align: middle;\n",
              "    }\n",
              "\n",
              "    .dataframe tbody tr th {\n",
              "        vertical-align: top;\n",
              "    }\n",
              "\n",
              "    .dataframe thead th {\n",
              "        text-align: right;\n",
              "    }\n",
              "</style>\n",
              "<table border=\"1\" class=\"dataframe\">\n",
              "  <thead>\n",
              "    <tr style=\"text-align: right;\">\n",
              "      <th></th>\n",
              "      <th>True</th>\n",
              "      <th>False</th>\n",
              "    </tr>\n",
              "  </thead>\n",
              "  <tbody>\n",
              "    <tr>\n",
              "      <th>True</th>\n",
              "      <td>35</td>\n",
              "      <td>44</td>\n",
              "    </tr>\n",
              "    <tr>\n",
              "      <th>False</th>\n",
              "      <td>1319</td>\n",
              "      <td>2302</td>\n",
              "    </tr>\n",
              "  </tbody>\n",
              "</table>\n",
              "</div>"
            ],
            "text/plain": [
              "       True   False\n",
              "True      35     44\n",
              "False   1319   2302"
            ]
          },
          "metadata": {},
          "execution_count": 39
        }
      ]
    },
    {
      "cell_type": "markdown",
      "metadata": {
        "id": "u_bBZICeZUDN"
      },
      "source": [
        "## ROC_AUC "
      ]
    },
    {
      "cell_type": "code",
      "metadata": {
        "colab": {
          "base_uri": "https://localhost:8080/",
          "height": 279
        },
        "id": "qYDIuL_1ZaQV",
        "outputId": "cc46b99c-f371-45d2-91a3-95c035f29e90"
      },
      "source": [
        "# ROC AUC\n",
        "plot_roc_curve(best_clf, X_test, y_test);"
      ],
      "execution_count": 40,
      "outputs": [
        {
          "output_type": "display_data",
          "data": {
            "image/png": "[encoded data removed]",
            "text/plain": [
              "<Figure size 432x288 with 1 Axes>"
            ]
          },
          "metadata": {
            "needs_background": "light"
          }
        }
      ]
    },
    {
      "cell_type": "markdown",
      "metadata": {
        "id": "GDLEjoU_T14a"
      },
      "source": [
        "# Random Forest Classifier"
      ]
    },
    {
      "cell_type": "markdown",
      "metadata": {
        "id": "vXTBm3xWvuWP"
      },
      "source": [
        "## First Run"
      ]
    },
    {
      "cell_type": "code",
      "metadata": {
        "colab": {
          "base_uri": "https://localhost:8080/",
          "height": 312
        },
        "id": "9J5qTcoMvwue",
        "outputId": "14f51168-bdc1-4199-8e4d-3843d3590baa"
      },
      "source": [
        "# LR Classifier - First run\n",
        "\n",
        "clf = RandomForestClassifier()\n",
        "clf.fit(X_train, y_train)\n",
        "y_pred = clf.predict(X_test)\n",
        "\n",
        "f1 = f1_score(y_test, y_pred)\n",
        "print(classification_report(y_test, y_pred))\n",
        "\n",
        "note.loc[2] = ['RF Classifier - First Run', f1]\n",
        "note"
      ],
      "execution_count": 41,
      "outputs": [
        {
          "output_type": "stream",
          "name": "stdout",
          "text": [
            "              precision    recall  f1-score   support\n",
            "\n",
            "       False       0.98      1.00      0.99      3621\n",
            "        True       0.00      0.00      0.00        79\n",
            "\n",
            "    accuracy                           0.98      3700\n",
            "   macro avg       0.49      0.50      0.49      3700\n",
            "weighted avg       0.96      0.98      0.97      3700\n",
            "\n"
          ]
        },
        {
          "output_type": "execute_result",
          "data": {
            "text/html": [
              "<div>\n",
              "<style scoped>\n",
              "    .dataframe tbody tr th:only-of-type {\n",
              "        vertical-align: middle;\n",
              "    }\n",
              "\n",
              "    .dataframe tbody tr th {\n",
              "        vertical-align: top;\n",
              "    }\n",
              "\n",
              "    .dataframe thead th {\n",
              "        text-align: right;\n",
              "    }\n",
              "</style>\n",
              "<table border=\"1\" class=\"dataframe\">\n",
              "  <thead>\n",
              "    <tr style=\"text-align: right;\">\n",
              "      <th></th>\n",
              "      <th>Model</th>\n",
              "      <th>F1</th>\n",
              "    </tr>\n",
              "  </thead>\n",
              "  <tbody>\n",
              "    <tr>\n",
              "      <th>0</th>\n",
              "      <td>LR Classifier - First Run</td>\n",
              "      <td>0.000000</td>\n",
              "    </tr>\n",
              "    <tr>\n",
              "      <th>1</th>\n",
              "      <td>LR Classifier - Best Param</td>\n",
              "      <td>0.048849</td>\n",
              "    </tr>\n",
              "    <tr>\n",
              "      <th>2</th>\n",
              "      <td>RF Classifier - First Run</td>\n",
              "      <td>0.000000</td>\n",
              "    </tr>\n",
              "  </tbody>\n",
              "</table>\n",
              "</div>"
            ],
            "text/plain": [
              "                        Model        F1\n",
              "0   LR Classifier - First Run  0.000000\n",
              "1  LR Classifier - Best Param  0.048849\n",
              "2   RF Classifier - First Run  0.000000"
            ]
          },
          "metadata": {},
          "execution_count": 41
        }
      ]
    },
    {
      "cell_type": "markdown",
      "metadata": {
        "id": "_QA4tC0X2l4d"
      },
      "source": [
        "### Confusion Matrix"
      ]
    },
    {
      "cell_type": "code",
      "metadata": {
        "colab": {
          "base_uri": "https://localhost:8080/",
          "height": 112
        },
        "id": "oLy2xgw82o24",
        "outputId": "2a13af5b-6639-404d-ddc0-f254e3d569c9"
      },
      "source": [
        "# CM \n",
        "\n",
        "cm = confusion_matrix(y_test, y_pred, labels=[True, False])\n",
        "cm = pd.DataFrame(cm, index=[True, False], columns=[True, False])\n",
        "cm"
      ],
      "execution_count": 42,
      "outputs": [
        {
          "output_type": "execute_result",
          "data": {
            "text/html": [
              "<div>\n",
              "<style scoped>\n",
              "    .dataframe tbody tr th:only-of-type {\n",
              "        vertical-align: middle;\n",
              "    }\n",
              "\n",
              "    .dataframe tbody tr th {\n",
              "        vertical-align: top;\n",
              "    }\n",
              "\n",
              "    .dataframe thead th {\n",
              "        text-align: right;\n",
              "    }\n",
              "</style>\n",
              "<table border=\"1\" class=\"dataframe\">\n",
              "  <thead>\n",
              "    <tr style=\"text-align: right;\">\n",
              "      <th></th>\n",
              "      <th>True</th>\n",
              "      <th>False</th>\n",
              "    </tr>\n",
              "  </thead>\n",
              "  <tbody>\n",
              "    <tr>\n",
              "      <th>True</th>\n",
              "      <td>0</td>\n",
              "      <td>79</td>\n",
              "    </tr>\n",
              "    <tr>\n",
              "      <th>False</th>\n",
              "      <td>11</td>\n",
              "      <td>3610</td>\n",
              "    </tr>\n",
              "  </tbody>\n",
              "</table>\n",
              "</div>"
            ],
            "text/plain": [
              "       True   False\n",
              "True       0     79\n",
              "False     11   3610"
            ]
          },
          "metadata": {},
          "execution_count": 42
        }
      ]
    },
    {
      "cell_type": "markdown",
      "metadata": {
        "id": "mKnhhuZQv-3W"
      },
      "source": [
        "## Grid Search"
      ]
    },
    {
      "cell_type": "code",
      "metadata": {
        "colab": {
          "base_uri": "https://localhost:8080/"
        },
        "id": "TKodSH6DwD-E",
        "outputId": "5f41b773-8c14-4cf7-d37f-7c7e49a02865"
      },
      "source": [
        "# Grid search - New my_param\n",
        "\n",
        "my_param_grid = [{'min_samples_split': list(range(50, 220+1, 20))}]\n",
        "my_param_grid"
      ],
      "execution_count": 43,
      "outputs": [
        {
          "output_type": "execute_result",
          "data": {
            "text/plain": [
              "[{'min_samples_split': [50, 70, 90, 110, 130, 150, 170, 190, 210]}]"
            ]
          },
          "metadata": {},
          "execution_count": 43
        }
      ]
    },
    {
      "cell_type": "code",
      "metadata": {
        "colab": {
          "base_uri": "https://localhost:8080/"
        },
        "id": "I6MyqwOIx6sX",
        "outputId": "49d95c4b-56da-4eb6-8580-105466424fe7"
      },
      "source": [
        "# Grid search - In action - **CV = 5**\n",
        "\n",
        "clf = RandomForestClassifier(class_weight='balanced')\n",
        "clf_gs = GridSearchCV(clf, my_param_grid, cv=5, scoring='f1')\n",
        "\n",
        "clf_gs.fit(X_train, y_train)\n",
        "best_MSS = clf_gs.best_estimator_.min_samples_split\n",
        "\n",
        "best_MSS"
      ],
      "execution_count": 44,
      "outputs": [
        {
          "output_type": "execute_result",
          "data": {
            "text/plain": [
              "170"
            ]
          },
          "metadata": {},
          "execution_count": 44
        }
      ]
    },
    {
      "cell_type": "code",
      "metadata": {
        "colab": {
          "base_uri": "https://localhost:8080/"
        },
        "id": "1qEWsbeO579S",
        "outputId": "05a5b806-7363-449c-893b-329da6234d61"
      },
      "source": [
        "# Grid Search - Checking measures \n",
        "print(classification_report(y_test, y_pred))"
      ],
      "execution_count": 45,
      "outputs": [
        {
          "output_type": "stream",
          "name": "stdout",
          "text": [
            "              precision    recall  f1-score   support\n",
            "\n",
            "       False       0.98      1.00      0.99      3621\n",
            "        True       0.00      0.00      0.00        79\n",
            "\n",
            "    accuracy                           0.98      3700\n",
            "   macro avg       0.49      0.50      0.49      3700\n",
            "weighted avg       0.96      0.98      0.97      3700\n",
            "\n"
          ]
        }
      ]
    },
    {
      "cell_type": "markdown",
      "metadata": {
        "id": "QHPBTAg7yrWK"
      },
      "source": [
        "## Show off with the best Param"
      ]
    },
    {
      "cell_type": "code",
      "metadata": {
        "colab": {
          "base_uri": "https://localhost:8080/",
          "height": 343
        },
        "id": "pHI9O422yqrh",
        "outputId": "ea78627e-47cc-42c8-8d7c-8cf718ba256d"
      },
      "source": [
        "# Best Indicator\n",
        "\n",
        "best_clf = RandomForestClassifier(n_estimators=100, bootstrap=False, class_weight='balanced', min_samples_split=best_MSS)\n",
        "\n",
        "best_clf.fit(X_train, y_train)\n",
        "y_pred = best_clf.predict(X_test)\n",
        "\n",
        "f1 = f1_score(y_test, y_pred)\n",
        "print(classification_report(y_test, y_pred))\n",
        "\n",
        "note.loc[3] = ['RF Classifier - Best Param', f1]\n",
        "note"
      ],
      "execution_count": 46,
      "outputs": [
        {
          "output_type": "stream",
          "name": "stdout",
          "text": [
            "              precision    recall  f1-score   support\n",
            "\n",
            "       False       0.98      0.83      0.90      3621\n",
            "        True       0.03      0.25      0.06        79\n",
            "\n",
            "    accuracy                           0.82      3700\n",
            "   macro avg       0.51      0.54      0.48      3700\n",
            "weighted avg       0.96      0.82      0.88      3700\n",
            "\n"
          ]
        },
        {
          "output_type": "execute_result",
          "data": {
            "text/html": [
              "<div>\n",
              "<style scoped>\n",
              "    .dataframe tbody tr th:only-of-type {\n",
              "        vertical-align: middle;\n",
              "    }\n",
              "\n",
              "    .dataframe tbody tr th {\n",
              "        vertical-align: top;\n",
              "    }\n",
              "\n",
              "    .dataframe thead th {\n",
              "        text-align: right;\n",
              "    }\n",
              "</style>\n",
              "<table border=\"1\" class=\"dataframe\">\n",
              "  <thead>\n",
              "    <tr style=\"text-align: right;\">\n",
              "      <th></th>\n",
              "      <th>Model</th>\n",
              "      <th>F1</th>\n",
              "    </tr>\n",
              "  </thead>\n",
              "  <tbody>\n",
              "    <tr>\n",
              "      <th>0</th>\n",
              "      <td>LR Classifier - First Run</td>\n",
              "      <td>0.000000</td>\n",
              "    </tr>\n",
              "    <tr>\n",
              "      <th>1</th>\n",
              "      <td>LR Classifier - Best Param</td>\n",
              "      <td>0.048849</td>\n",
              "    </tr>\n",
              "    <tr>\n",
              "      <th>2</th>\n",
              "      <td>RF Classifier - First Run</td>\n",
              "      <td>0.000000</td>\n",
              "    </tr>\n",
              "    <tr>\n",
              "      <th>3</th>\n",
              "      <td>RF Classifier - Best Param</td>\n",
              "      <td>0.057389</td>\n",
              "    </tr>\n",
              "  </tbody>\n",
              "</table>\n",
              "</div>"
            ],
            "text/plain": [
              "                        Model        F1\n",
              "0   LR Classifier - First Run  0.000000\n",
              "1  LR Classifier - Best Param  0.048849\n",
              "2   RF Classifier - First Run  0.000000\n",
              "3  RF Classifier - Best Param  0.057389"
            ]
          },
          "metadata": {},
          "execution_count": 46
        }
      ]
    },
    {
      "cell_type": "markdown",
      "metadata": {
        "id": "rE5mgCTn2ryZ"
      },
      "source": [
        "### Confusion Matrix"
      ]
    },
    {
      "cell_type": "code",
      "metadata": {
        "colab": {
          "base_uri": "https://localhost:8080/",
          "height": 112
        },
        "id": "UCIQttOK2uow",
        "outputId": "8ce5e4bb-d6c2-427c-bffb-881dafd6796c"
      },
      "source": [
        "# CM\n",
        "\n",
        "cm = confusion_matrix(y_test, y_pred, labels=[True, False])\n",
        "cm = pd.DataFrame(cm, index=[True, False], columns=[True, False])\n",
        "cm"
      ],
      "execution_count": 47,
      "outputs": [
        {
          "output_type": "execute_result",
          "data": {
            "text/html": [
              "<div>\n",
              "<style scoped>\n",
              "    .dataframe tbody tr th:only-of-type {\n",
              "        vertical-align: middle;\n",
              "    }\n",
              "\n",
              "    .dataframe tbody tr th {\n",
              "        vertical-align: top;\n",
              "    }\n",
              "\n",
              "    .dataframe thead th {\n",
              "        text-align: right;\n",
              "    }\n",
              "</style>\n",
              "<table border=\"1\" class=\"dataframe\">\n",
              "  <thead>\n",
              "    <tr style=\"text-align: right;\">\n",
              "      <th></th>\n",
              "      <th>True</th>\n",
              "      <th>False</th>\n",
              "    </tr>\n",
              "  </thead>\n",
              "  <tbody>\n",
              "    <tr>\n",
              "      <th>True</th>\n",
              "      <td>20</td>\n",
              "      <td>59</td>\n",
              "    </tr>\n",
              "    <tr>\n",
              "      <th>False</th>\n",
              "      <td>598</td>\n",
              "      <td>3023</td>\n",
              "    </tr>\n",
              "  </tbody>\n",
              "</table>\n",
              "</div>"
            ],
            "text/plain": [
              "       True   False\n",
              "True      20     59\n",
              "False    598   3023"
            ]
          },
          "metadata": {},
          "execution_count": 47
        }
      ]
    },
    {
      "cell_type": "markdown",
      "metadata": {
        "id": "vWAR6eK0zPES"
      },
      "source": [
        "## ROC_AUC"
      ]
    },
    {
      "cell_type": "code",
      "metadata": {
        "colab": {
          "base_uri": "https://localhost:8080/",
          "height": 279
        },
        "id": "Vnf5zj9NzN17",
        "outputId": "4be8b9b1-a60c-4276-b75c-0d38a644f5e5"
      },
      "source": [
        "# ROC AUC\n",
        "plot_roc_curve(best_clf, X_test, y_test);"
      ],
      "execution_count": 48,
      "outputs": [
        {
          "output_type": "display_data",
          "data": {
            "image/png": "[encoded data removed]",
            "text/plain": [
              "<Figure size 432x288 with 1 Axes>"
            ]
          },
          "metadata": {
            "needs_background": "light"
          }
        }
      ]
    },
    {
      "cell_type": "markdown",
      "metadata": {
        "id": "3Nnuf9BzBNZq"
      },
      "source": [
        "1. More models\n",
        "2. Gradient Descent\n"
      ]
    }
  ]
}